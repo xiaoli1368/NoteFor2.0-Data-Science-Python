{
 "cells": [
  {
   "cell_type": "markdown",
   "metadata": {},
   "source": [
    "# NumPy 100 Exercises"
   ]
  },
  {
   "cell_type": "markdown",
   "metadata": {},
   "source": [
    "## **说明**\n",
    "\n",
    "该文档是对[《100 numpy exercises》](https://github.com/rougier/numpy-100/blob/master/100_Numpy_exercises.md)的学习笔记。"
   ]
  },
  {
   "cell_type": "markdown",
   "metadata": {},
   "source": [
    "#### **1. 导入numpy作为np (★☆☆)**"
   ]
  },
  {
   "cell_type": "code",
   "execution_count": 1,
   "metadata": {},
   "outputs": [],
   "source": [
    "import numpy as np"
   ]
  },
  {
   "cell_type": "markdown",
   "metadata": {},
   "source": [
    "#### **2. 打印numpy的版本信息和配置 (★☆☆)**"
   ]
  },
  {
   "cell_type": "code",
   "execution_count": 2,
   "metadata": {},
   "outputs": [
    {
     "name": "stdout",
     "output_type": "stream",
     "text": [
      "1.15.4\n",
      "mkl_info:\n",
      "    libraries = ['mkl_rt']\n",
      "    library_dirs = ['D:/Anaconda3\\\\Library\\\\lib']\n",
      "    define_macros = [('SCIPY_MKL_H', None), ('HAVE_CBLAS', None)]\n",
      "    include_dirs = ['C:\\\\Program Files (x86)\\\\IntelSWTools\\\\compilers_and_libraries_2019.0.117\\\\windows\\\\mkl', 'C:\\\\Program Files (x86)\\\\IntelSWTools\\\\compilers_and_libraries_2019.0.117\\\\windows\\\\mkl\\\\include', 'C:\\\\Program Files (x86)\\\\IntelSWTools\\\\compilers_and_libraries_2019.0.117\\\\windows\\\\mkl\\\\lib', 'D:/Anaconda3\\\\Library\\\\include']\n",
      "blas_mkl_info:\n",
      "    libraries = ['mkl_rt']\n",
      "    library_dirs = ['D:/Anaconda3\\\\Library\\\\lib']\n",
      "    define_macros = [('SCIPY_MKL_H', None), ('HAVE_CBLAS', None)]\n",
      "    include_dirs = ['C:\\\\Program Files (x86)\\\\IntelSWTools\\\\compilers_and_libraries_2019.0.117\\\\windows\\\\mkl', 'C:\\\\Program Files (x86)\\\\IntelSWTools\\\\compilers_and_libraries_2019.0.117\\\\windows\\\\mkl\\\\include', 'C:\\\\Program Files (x86)\\\\IntelSWTools\\\\compilers_and_libraries_2019.0.117\\\\windows\\\\mkl\\\\lib', 'D:/Anaconda3\\\\Library\\\\include']\n",
      "blas_opt_info:\n",
      "    libraries = ['mkl_rt']\n",
      "    library_dirs = ['D:/Anaconda3\\\\Library\\\\lib']\n",
      "    define_macros = [('SCIPY_MKL_H', None), ('HAVE_CBLAS', None)]\n",
      "    include_dirs = ['C:\\\\Program Files (x86)\\\\IntelSWTools\\\\compilers_and_libraries_2019.0.117\\\\windows\\\\mkl', 'C:\\\\Program Files (x86)\\\\IntelSWTools\\\\compilers_and_libraries_2019.0.117\\\\windows\\\\mkl\\\\include', 'C:\\\\Program Files (x86)\\\\IntelSWTools\\\\compilers_and_libraries_2019.0.117\\\\windows\\\\mkl\\\\lib', 'D:/Anaconda3\\\\Library\\\\include']\n",
      "lapack_mkl_info:\n",
      "    libraries = ['mkl_rt']\n",
      "    library_dirs = ['D:/Anaconda3\\\\Library\\\\lib']\n",
      "    define_macros = [('SCIPY_MKL_H', None), ('HAVE_CBLAS', None)]\n",
      "    include_dirs = ['C:\\\\Program Files (x86)\\\\IntelSWTools\\\\compilers_and_libraries_2019.0.117\\\\windows\\\\mkl', 'C:\\\\Program Files (x86)\\\\IntelSWTools\\\\compilers_and_libraries_2019.0.117\\\\windows\\\\mkl\\\\include', 'C:\\\\Program Files (x86)\\\\IntelSWTools\\\\compilers_and_libraries_2019.0.117\\\\windows\\\\mkl\\\\lib', 'D:/Anaconda3\\\\Library\\\\include']\n",
      "lapack_opt_info:\n",
      "    libraries = ['mkl_rt']\n",
      "    library_dirs = ['D:/Anaconda3\\\\Library\\\\lib']\n",
      "    define_macros = [('SCIPY_MKL_H', None), ('HAVE_CBLAS', None)]\n",
      "    include_dirs = ['C:\\\\Program Files (x86)\\\\IntelSWTools\\\\compilers_and_libraries_2019.0.117\\\\windows\\\\mkl', 'C:\\\\Program Files (x86)\\\\IntelSWTools\\\\compilers_and_libraries_2019.0.117\\\\windows\\\\mkl\\\\include', 'C:\\\\Program Files (x86)\\\\IntelSWTools\\\\compilers_and_libraries_2019.0.117\\\\windows\\\\mkl\\\\lib', 'D:/Anaconda3\\\\Library\\\\include']\n"
     ]
    }
   ],
   "source": [
    "print(np.__version__)\n",
    "np.show_config()"
   ]
  },
  {
   "cell_type": "markdown",
   "metadata": {},
   "source": [
    "#### **3. 创建一个空矢量，大小为1*10 (★☆☆)**"
   ]
  },
  {
   "cell_type": "code",
   "execution_count": 4,
   "metadata": {},
   "outputs": [
    {
     "name": "stdout",
     "output_type": "stream",
     "text": [
      "[0. 0. 0. 0. 0. 0. 0. 0. 0. 0.]\n"
     ]
    }
   ],
   "source": [
    "z = np.zeros(10)\n",
    "print(z)"
   ]
  },
  {
   "cell_type": "markdown",
   "metadata": {},
   "source": [
    "#### **4. 寻找数组的内存大小 (★☆☆)**"
   ]
  },
  {
   "cell_type": "code",
   "execution_count": 8,
   "metadata": {},
   "outputs": [
    {
     "name": "stdout",
     "output_type": "stream",
     "text": [
      "100\n",
      "8\n",
      "800 bytes\n"
     ]
    }
   ],
   "source": [
    "z = np.zeros((10, 10))\n",
    "print(z.size)      # 这里的size指的是总共有100个元素\n",
    "print(z.itemsize)  # 每个元素所占内存（字节）\n",
    "print('%d bytes' % (z.size * z.itemsize))"
   ]
  },
  {
   "cell_type": "markdown",
   "metadata": {},
   "source": [
    "#### **5. 如何从命令行获取numpy add函数的文档？ (★☆☆)**"
   ]
  },
  {
   "cell_type": "code",
   "execution_count": 9,
   "metadata": {},
   "outputs": [
    {
     "name": "stderr",
     "output_type": "stream",
     "text": [
      "ERROR:root:File `'`python.py'` not found.\n"
     ]
    }
   ],
   "source": [
    "# 这个有错误\n",
    "%run `python -c \"import numpy; numpy.info(numpy.add)\"`"
   ]
  },
  {
   "cell_type": "markdown",
   "metadata": {},
   "source": [
    "#### **6. 创建一个10维空向量，但是第5个值为1 (★☆☆)**"
   ]
  },
  {
   "cell_type": "code",
   "execution_count": 10,
   "metadata": {},
   "outputs": [
    {
     "name": "stdout",
     "output_type": "stream",
     "text": [
      "[0. 0. 0. 0. 1. 0. 0. 0. 0. 0.]\n"
     ]
    }
   ],
   "source": [
    "z = np.zeros(10) # 注意到默认的数据类型为 float\n",
    "z[4] = 1\n",
    "print(z)"
   ]
  },
  {
   "cell_type": "markdown",
   "metadata": {},
   "source": [
    "#### **7. 创建一个向量，值为从10到49 (★☆☆)**"
   ]
  },
  {
   "cell_type": "code",
   "execution_count": 12,
   "metadata": {},
   "outputs": [
    {
     "name": "stdout",
     "output_type": "stream",
     "text": [
      "[10 11 12 13 14 15 16 17 18 19 20 21 22 23 24 25 26 27 28 29 30 31 32 33\n",
      " 34 35 36 37 38 39 40 41 42 43 44 45 46 47 48 49]\n",
      "[49 48 47 46 45 44 43 42 41 40 39 38 37 36 35 34 33 32 31 30 29 28 27 26\n",
      " 25 24 23 22 21 20 19 18 17 16 15 14 13 12 11 10]\n"
     ]
    }
   ],
   "source": [
    "z = np.arange(10, 50)\n",
    "print(z)\n",
    "\n",
    "# 以下是反向\n",
    "z_inv = z[::-1]\n",
    "print(z_inv)"
   ]
  },
  {
   "cell_type": "markdown",
   "metadata": {},
   "source": [
    "#### **8. 反转一个向量 (★☆☆)**"
   ]
  },
  {
   "cell_type": "code",
   "execution_count": 17,
   "metadata": {},
   "outputs": [
    {
     "name": "stdout",
     "output_type": "stream",
     "text": [
      "[-0.35875052 -1.45875558 -0.42620173 -2.16807082  0.39448237]\n",
      "[ 0.39448237 -2.16807082 -0.42620173 -1.45875558 -0.35875052]\n",
      "[ 0.39448237 -2.16807082 -0.42620173 -1.45875558 -0.35875052]\n"
     ]
    }
   ],
   "source": [
    "z = np.random.randn(5)\n",
    "print(z)\n",
    "\n",
    "z_inv = z[::-1]\n",
    "print(z_inv)\n",
    "\n",
    "# 换一种方式\n",
    "z_inv2 = z[-1:-len(z)-1:-1] # 从倒数第一个到第一个，注意左闭右开\n",
    "print(z_inv2)"
   ]
  },
  {
   "cell_type": "markdown",
   "metadata": {},
   "source": [
    "#### **9. 创建3*3矩阵，值为0到8 (★☆☆)**"
   ]
  },
  {
   "cell_type": "code",
   "execution_count": 18,
   "metadata": {},
   "outputs": [
    {
     "name": "stdout",
     "output_type": "stream",
     "text": [
      "[0 1 2 3 4 5 6 7 8]\n",
      "[[0 1 2]\n",
      " [3 4 5]\n",
      " [6 7 8]]\n"
     ]
    }
   ],
   "source": [
    "z = np.arange(9)\n",
    "print(z)\n",
    "z = z.reshape(3, 3)\n",
    "print(z)\n",
    "# 其实就是 z = np.arange(9).reshape(3, 3)"
   ]
  },
  {
   "cell_type": "markdown",
   "metadata": {},
   "source": [
    "#### **10. 找出[1,2,0,0,4,0]中的非零值 (★☆☆)**"
   ]
  },
  {
   "cell_type": "code",
   "execution_count": 28,
   "metadata": {},
   "outputs": [
    {
     "name": "stdout",
     "output_type": "stream",
     "text": [
      "[ True  True False False  True False]\n",
      "(array([0, 1, 4], dtype=int64),)\n",
      "[1 2 4]\n"
     ]
    }
   ],
   "source": [
    "# 以下是找出索引\n",
    "z = [1, 2, 0, 0, 4, 0]\n",
    "print(z != np.zeros(6))\n",
    "\n",
    "# 以下这种方式更好：\n",
    "nz = np.nonzero([1, 2, 0, 0, 4, 0])\n",
    "print(nz)\n",
    "\n",
    "# 以下是找出非零值\n",
    "a = np.array(z)  # 注意这种方式必须用np下的数组才能完成\n",
    "print(a[a != 0])"
   ]
  },
  {
   "cell_type": "markdown",
   "metadata": {},
   "source": [
    "#### **11. 创建3*3单位阵 (★☆☆)**"
   ]
  },
  {
   "cell_type": "code",
   "execution_count": 33,
   "metadata": {},
   "outputs": [
    {
     "name": "stdout",
     "output_type": "stream",
     "text": [
      "[[1 0 0]\n",
      " [0 1 0]\n",
      " [0 0 1]]\n"
     ]
    }
   ],
   "source": [
    "z = np.eye(3, dtype = 'int') # 其实不用加类型\n",
    "print(z)"
   ]
  },
  {
   "cell_type": "markdown",
   "metadata": {},
   "source": [
    "#### **12. 创建3\\*3\\*3随机数矩阵 (★☆☆)**"
   ]
  },
  {
   "cell_type": "code",
   "execution_count": 34,
   "metadata": {},
   "outputs": [
    {
     "name": "stdout",
     "output_type": "stream",
     "text": [
      "[[[0.11664449 0.63351755 0.92784217]\n",
      "  [0.51896247 0.05712764 0.93745489]\n",
      "  [0.77884356 0.91478212 0.98385281]]\n",
      "\n",
      " [[0.70623243 0.44160601 0.57253004]\n",
      "  [0.25667986 0.34265582 0.61119601]\n",
      "  [0.20167334 0.70277928 0.58346715]]\n",
      "\n",
      " [[0.66233716 0.79452648 0.10580243]\n",
      "  [0.87992823 0.33173409 0.00696292]\n",
      "  [0.62366807 0.02809428 0.78805371]]]\n"
     ]
    }
   ],
   "source": [
    "# z = np.random.randn(3, 3, 3)   # 标准正态分布\n",
    "z = np.random.random((3, 3, 3))  # 连续均匀分布\n",
    "print(z)\n",
    "\n",
    "# help(np.random.random)"
   ]
  },
  {
   "cell_type": "markdown",
   "metadata": {},
   "source": [
    "#### **13. 创建10*10随机矩阵，寻找最大值和最小值 (★☆☆)**"
   ]
  },
  {
   "cell_type": "code",
   "execution_count": 44,
   "metadata": {},
   "outputs": [
    {
     "name": "stdout",
     "output_type": "stream",
     "text": [
      "[[0.95088632 0.56600764 0.7294677  0.43752525 0.99693756 0.7422998\n",
      "  0.52313034 0.91406339 0.30110331 0.1822548 ]\n",
      " [0.46253112 0.91834457 0.9076577  0.8824893  0.63205084 0.26880516\n",
      "  0.50745514 0.59257292 0.94789942 0.79469697]\n",
      " [0.3758234  0.69466605 0.85950626 0.43073624 0.51849148 0.71496881\n",
      "  0.45816944 0.30345832 0.94701962 0.63097613]\n",
      " [0.08228683 0.26693147 0.67304554 0.9877871  0.11115968 0.26478558\n",
      "  0.41468429 0.1767908  0.46844395 0.17431167]\n",
      " [0.73117397 0.7361376  0.85553752 0.2602796  0.75676844 0.27091767\n",
      "  0.68020418 0.26957715 0.00744596 0.88852722]\n",
      " [0.61524037 0.74490322 0.16449181 0.09088338 0.51666726 0.40083613\n",
      "  0.22970519 0.67466263 0.10373652 0.03070908]\n",
      " [0.59553654 0.67033925 0.13965304 0.60303764 0.74491118 0.99672614\n",
      "  0.22179694 0.40945507 0.91188573 0.57003296]\n",
      " [0.7717017  0.74663196 0.20016966 0.68119589 0.99591956 0.13058056\n",
      "  0.09325756 0.42769816 0.86877821 0.20713109]\n",
      " [0.55309582 0.21433513 0.52400177 0.80172529 0.64789907 0.96793266\n",
      "  0.65009285 0.46278083 0.38743727 0.65765362]\n",
      " [0.54487461 0.56760701 0.91949333 0.57404067 0.2641316  0.62387276\n",
      "  0.11392669 0.09482116 0.75657216 0.16899554]]\n",
      "0.996937560597333 0.007445958402993891\n",
      "[0 1 9 3 0 6 4 0 1 4]\n",
      "[0.95088632 0.91834457 0.91949333 0.9877871  0.99693756 0.99672614\n",
      " 0.68020418 0.91406339 0.94789942 0.88852722]\n"
     ]
    }
   ],
   "source": [
    "z = np.random.random((10, 10))\n",
    "print(z)\n",
    "print(z.max(), z.min())\n",
    "\n",
    "# 这种方式是错误的： print(max(z)) # 这种方式只适用于列表\n",
    "# 思考如果是求每一行或列的最大值呢？\n",
    "print(z.argmax(axis=0))               # 这里给出的是列最大值索引\n",
    "print(z[z.argmax(axis=0), range(10)]) # 这里给出的是列最大值"
   ]
  },
  {
   "cell_type": "markdown",
   "metadata": {},
   "source": [
    "#### **14. 创建一个大小为30的随机矩阵，寻找均值 (★☆☆)**"
   ]
  },
  {
   "cell_type": "code",
   "execution_count": 45,
   "metadata": {},
   "outputs": [
    {
     "name": "stdout",
     "output_type": "stream",
     "text": [
      "0.49787116690395006\n",
      "0.49787116690395006\n"
     ]
    }
   ],
   "source": [
    "z = np.random.random(30)\n",
    "# 两种方式\n",
    "print(np.mean(z))\n",
    "print(z.mean())"
   ]
  },
  {
   "cell_type": "markdown",
   "metadata": {},
   "source": [
    "#### **15. 创建一个边界为1，内部为0的二维数组 (★☆☆)**"
   ]
  },
  {
   "cell_type": "code",
   "execution_count": 47,
   "metadata": {},
   "outputs": [
    {
     "name": "stdout",
     "output_type": "stream",
     "text": [
      "[[1. 1. 1. 1. 1. 1. 1. 1. 1. 1.]\n",
      " [1. 0. 0. 0. 0. 0. 0. 0. 0. 1.]\n",
      " [1. 0. 0. 0. 0. 0. 0. 0. 0. 1.]\n",
      " [1. 0. 0. 0. 0. 0. 0. 0. 0. 1.]\n",
      " [1. 0. 0. 0. 0. 0. 0. 0. 0. 1.]\n",
      " [1. 0. 0. 0. 0. 0. 0. 0. 0. 1.]\n",
      " [1. 0. 0. 0. 0. 0. 0. 0. 0. 1.]\n",
      " [1. 0. 0. 0. 0. 0. 0. 0. 0. 1.]\n",
      " [1. 0. 0. 0. 0. 0. 0. 0. 0. 1.]\n",
      " [1. 1. 1. 1. 1. 1. 1. 1. 1. 1.]]\n",
      "[[1. 1. 1. 1. 1. 1. 1. 1. 1. 1.]\n",
      " [1. 0. 0. 0. 0. 0. 0. 0. 0. 1.]\n",
      " [1. 0. 0. 0. 0. 0. 0. 0. 0. 1.]\n",
      " [1. 0. 0. 0. 0. 0. 0. 0. 0. 1.]\n",
      " [1. 0. 0. 0. 0. 0. 0. 0. 0. 1.]\n",
      " [1. 0. 0. 0. 0. 0. 0. 0. 0. 1.]\n",
      " [1. 0. 0. 0. 0. 0. 0. 0. 0. 1.]\n",
      " [1. 0. 0. 0. 0. 0. 0. 0. 0. 1.]\n",
      " [1. 0. 0. 0. 0. 0. 0. 0. 0. 1.]\n",
      " [1. 1. 1. 1. 1. 1. 1. 1. 1. 1.]]\n"
     ]
    }
   ],
   "source": [
    "z = np.zeros((10, 10))\n",
    "z[0,:]  = 1\n",
    "z[-1,:] = 1\n",
    "z[:,0]  = 1\n",
    "z[:,-1] = 1\n",
    "print(z)\n",
    "\n",
    "# 以下这种方式更好\n",
    "z = np.ones((10, 10))\n",
    "z[1:-1, 1:-1] = 0 # 注意是左开右闭，-1表示最后一行但不包括，当直接省略-1时候是包括的\n",
    "print(z)"
   ]
  },
  {
   "cell_type": "markdown",
   "metadata": {},
   "source": [
    "#### **16. 如何在现有数组周围添加边框（填充为0） (★☆☆)**"
   ]
  },
  {
   "cell_type": "code",
   "execution_count": 48,
   "metadata": {},
   "outputs": [
    {
     "name": "stdout",
     "output_type": "stream",
     "text": [
      "[[1. 1. 1. 1. 1.]\n",
      " [1. 1. 1. 1. 1.]\n",
      " [1. 1. 1. 1. 1.]\n",
      " [1. 1. 1. 1. 1.]\n",
      " [1. 1. 1. 1. 1.]]\n",
      "[[0. 0. 0. 0. 0. 0. 0.]\n",
      " [0. 1. 1. 1. 1. 1. 0.]\n",
      " [0. 1. 1. 1. 1. 1. 0.]\n",
      " [0. 1. 1. 1. 1. 1. 0.]\n",
      " [0. 1. 1. 1. 1. 1. 0.]\n",
      " [0. 1. 1. 1. 1. 1. 0.]\n",
      " [0. 0. 0. 0. 0. 0. 0.]]\n"
     ]
    }
   ],
   "source": [
    "z = np.ones((5, 5))\n",
    "print(z)\n",
    "\n",
    "z = np.pad(z, pad_width = 1, mode = 'constant', constant_values = 0)\n",
    "print(z)"
   ]
  },
  {
   "cell_type": "markdown",
   "metadata": {},
   "source": [
    "#### **17. 打印输出 (★☆☆)**"
   ]
  },
  {
   "cell_type": "code",
   "execution_count": 50,
   "metadata": {},
   "outputs": [
    {
     "name": "stdout",
     "output_type": "stream",
     "text": [
      "nan\n",
      "False\n",
      "False\n",
      "nan\n",
      "True\n",
      "False\n",
      "True\n"
     ]
    }
   ],
   "source": [
    "# 017. 打印输出\n",
    "print(0 * np.nan)               # 0乘以nan，结果还是nan\n",
    "print(np.nan == np.nan)         # nan不等于nan\n",
    "print(np.inf > np.nan)          # 无穷不大于nan，二者不能比\n",
    "print(np.nan - np.nan)          # nan减去nan结果还是nan\n",
    "print(np.nan in set([np.nan]))  # Truw说明 np.nan 确实在 set([np,set])中\n",
    "print(0.3 == 3 * 0.1)           # 永远不要用==去比较浮点数\n",
    "print(0.3 == round(3 * 0.1, 2)) # 要这样比较"
   ]
  },
  {
   "cell_type": "markdown",
   "metadata": {},
   "source": [
    "#### **18. 生成一个5*5的矩阵，对角线下为1 2 3 4 (★☆☆)**"
   ]
  },
  {
   "cell_type": "code",
   "execution_count": 55,
   "metadata": {},
   "outputs": [
    {
     "name": "stdout",
     "output_type": "stream",
     "text": [
      "[[0 0 0 0 0]\n",
      " [1 0 0 0 0]\n",
      " [0 2 0 0 0]\n",
      " [0 0 3 0 0]\n",
      " [0 0 0 4 0]]\n",
      "[[0 0 0 0 0]\n",
      " [1 0 0 0 0]\n",
      " [0 2 0 0 0]\n",
      " [0 0 3 0 0]\n",
      " [0 0 0 4 0]]\n"
     ]
    }
   ],
   "source": [
    "z  = np.diag(np.arange(1, 5), k = -1) # 这都行？\n",
    "print(z)\n",
    "\n",
    "z = np.diag(1 + np.arange(4), k=-1)\n",
    "print(z)"
   ]
  },
  {
   "cell_type": "markdown",
   "metadata": {},
   "source": [
    "#### **19. 生成一个8*8的矩阵，填充为棋盘形式 (★☆☆)**"
   ]
  },
  {
   "cell_type": "code",
   "execution_count": 60,
   "metadata": {},
   "outputs": [
    {
     "name": "stdout",
     "output_type": "stream",
     "text": [
      "[[0. 1. 0. 1. 0. 1. 0. 1.]\n",
      " [1. 0. 1. 0. 1. 0. 1. 0.]\n",
      " [0. 1. 0. 1. 0. 1. 0. 1.]\n",
      " [1. 0. 1. 0. 1. 0. 1. 0.]\n",
      " [0. 1. 0. 1. 0. 1. 0. 1.]\n",
      " [1. 0. 1. 0. 1. 0. 1. 0.]\n",
      " [0. 1. 0. 1. 0. 1. 0. 1.]\n",
      " [1. 0. 1. 0. 1. 0. 1. 0.]]\n",
      "[[1. 0. 1. 0. 1. 0. 1. 0.]\n",
      " [0. 1. 0. 1. 0. 1. 0. 1.]\n",
      " [1. 0. 1. 0. 1. 0. 1. 0.]\n",
      " [0. 1. 0. 1. 0. 1. 0. 1.]\n",
      " [1. 0. 1. 0. 1. 0. 1. 0.]\n",
      " [0. 1. 0. 1. 0. 1. 0. 1.]\n",
      " [1. 0. 1. 0. 1. 0. 1. 0.]\n",
      " [0. 1. 0. 1. 0. 1. 0. 1.]]\n"
     ]
    }
   ],
   "source": [
    "z = np.zeros((8, 8))\n",
    "z[1::2, 0::2] = 1 # 对于切片的使用,省略就是最后一行\n",
    "z[0::2, 1::2] = 1\n",
    "print(z)\n",
    "\n",
    "# 换一种填充\n",
    "z = np.zeros((8, 8))\n",
    "z[0::2, 0::2] = 1\n",
    "z[1::2, 1::2] = 1\n",
    "print(z)\n",
    "\n",
    "# 注意体会，最终的结果是两次填充的叠加"
   ]
  },
  {
   "cell_type": "markdown",
   "metadata": {},
   "source": [
    "#### **20. 已知矩阵大小为6\\*7\\*8，求第100个元素索引处的值 (★☆☆)**"
   ]
  },
  {
   "cell_type": "code",
   "execution_count": 62,
   "metadata": {},
   "outputs": [
    {
     "name": "stdout",
     "output_type": "stream",
     "text": [
      "(1, 5, 3)\n"
     ]
    }
   ],
   "source": [
    "# 这函数用的我没脾气\n",
    "# 应该是可以将一维索引转换为三维索引\n",
    "print(np.unravel_index(99, (6, 7, 8)))"
   ]
  },
  {
   "cell_type": "markdown",
   "metadata": {},
   "source": [
    "#### **21. 使用tile函数来创建8\\*8棋盘矩阵 (★☆☆)**"
   ]
  },
  {
   "cell_type": "code",
   "execution_count": 63,
   "metadata": {},
   "outputs": [
    {
     "name": "stdout",
     "output_type": "stream",
     "text": [
      "[[0 1 0 1 0 1 0 1]\n",
      " [1 0 1 0 1 0 1 0]\n",
      " [0 1 0 1 0 1 0 1]\n",
      " [1 0 1 0 1 0 1 0]\n",
      " [0 1 0 1 0 1 0 1]\n",
      " [1 0 1 0 1 0 1 0]\n",
      " [0 1 0 1 0 1 0 1]\n",
      " [1 0 1 0 1 0 1 0]]\n"
     ]
    }
   ],
   "source": [
    "z = np.tile(np.array([[0, 1], [1, 0]]), (4, 4)) # 将A矩阵按照B重复\n",
    "print(z)"
   ]
  },
  {
   "cell_type": "markdown",
   "metadata": {},
   "source": [
    "#### **22. 将一个5\\*5的随机矩阵归一化 (★☆☆)**"
   ]
  },
  {
   "cell_type": "code",
   "execution_count": 64,
   "metadata": {},
   "outputs": [
    {
     "name": "stdout",
     "output_type": "stream",
     "text": [
      "[[-0.9663514   0.57393144  1.17132842 -0.40677922 -1.10478623]\n",
      " [ 0.65766144  0.14029205 -1.52538247 -0.86474056  0.81095821]\n",
      " [-1.54745444  1.1835132   1.13219143  1.41450735 -1.04708107]\n",
      " [-0.45555228  0.45561062  1.30500199  0.71345332  1.05951873]\n",
      " [ 0.24443944 -1.5254055   0.30060433 -0.18338375 -1.53609508]]\n"
     ]
    }
   ],
   "source": [
    "# 指的是方差和均值归一化\n",
    "# 而不是这种大小归一化：z = z/z.max()\n",
    "\n",
    "z = np.random.random((5, 5))\n",
    "z = (z - np.mean(z)) / np.std(z) # 这个是标准差\n",
    "print(z)"
   ]
  },
  {
   "cell_type": "markdown",
   "metadata": {},
   "source": [
    "#### **23. 创建一个自定义dtype，将颜色描述为四个无符号字节（RGBA） (★☆☆)**"
   ]
  },
  {
   "cell_type": "code",
   "execution_count": 65,
   "metadata": {},
   "outputs": [
    {
     "name": "stdout",
     "output_type": "stream",
     "text": [
      "[('r', 'u1'), ('g', 'u1'), ('b', 'u1'), ('a', 'u1')]\n"
     ]
    }
   ],
   "source": [
    "z = np.dtype([('r', np.ubyte, 1),\n",
    "              ('g', np.ubyte, 1),\n",
    "              ('b', np.ubyte, 1),\n",
    "              ('a', np.ubyte, 1)])\n",
    "print(z)"
   ]
  },
  {
   "cell_type": "markdown",
   "metadata": {},
   "source": [
    "#### **24. 实现5x3矩阵与3x2矩阵的乘积（实矩阵） (★☆☆)**"
   ]
  },
  {
   "cell_type": "code",
   "execution_count": 67,
   "metadata": {},
   "outputs": [
    {
     "name": "stdout",
     "output_type": "stream",
     "text": [
      "[[0.7412981  0.25855817 0.66367448]\n",
      " [0.90427528 0.72289199 0.10048212]\n",
      " [0.13808044 0.91866579 0.00561675]\n",
      " [0.24813335 0.31106205 0.45185724]\n",
      " [0.33364548 0.0376914  0.49396767]]\n",
      "[[0.85384703 0.60479076]\n",
      " [0.73637692 0.18387866]\n",
      " [0.94027146 0.71389988]]\n",
      "[[1.44738563 0.96967071]\n",
      " [1.39891422 0.75155592]\n",
      " [0.79966514 0.25644261]\n",
      " [0.86579531 0.52984726]\n",
      " [0.77710098 0.5613598 ]]\n",
      "[[1.44738563 0.96967071]\n",
      " [1.39891422 0.75155592]\n",
      " [0.79966514 0.25644261]\n",
      " [0.86579531 0.52984726]\n",
      " [0.77710098 0.5613598 ]]\n"
     ]
    }
   ],
   "source": [
    "a = np.random.random((5, 3))\n",
    "b = np.random.random((3, 2))\n",
    "\n",
    "# 两种不同但都可行的方式\n",
    "z1 = a.dot(b)\n",
    "z2 = a @ b\n",
    "\n",
    "print(a)\n",
    "print(b)\n",
    "print(z1)\n",
    "print(z2)"
   ]
  },
  {
   "cell_type": "markdown",
   "metadata": {},
   "source": [
    "#### **25. 给定一维数组，将所有在3到8之间的元素取反 (★☆☆)**"
   ]
  },
  {
   "cell_type": "code",
   "execution_count": 5,
   "metadata": {},
   "outputs": [
    {
     "name": "stdout",
     "output_type": "stream",
     "text": [
      "[ 0  1  2  3 -4 -5 -6 -7  8  9]\n"
     ]
    }
   ],
   "source": [
    "z = np.arange(10)\n",
    "z[(z > 3) & (z < 8) ] *= -1 # 这个操作太秀了\n",
    "print(z)"
   ]
  },
  {
   "cell_type": "markdown",
   "metadata": {},
   "source": [
    "#### **26. 打印输出 (★☆☆)**"
   ]
  },
  {
   "cell_type": "code",
   "execution_count": 1,
   "metadata": {},
   "outputs": [
    {
     "name": "stdout",
     "output_type": "stream",
     "text": [
      "9\n",
      "10\n"
     ]
    }
   ],
   "source": [
    "print(sum(range(5), -1)) # 先将 range求和，再跟 -1 求和\n",
    "\n",
    "from numpy import *\n",
    "print(sum(range(5), -1)) # sum函数被重置，求和结果不同了 \n",
    "# print(sum(range(5), axis = -1))"
   ]
  },
  {
   "cell_type": "markdown",
   "metadata": {},
   "source": [
    "#### **27. 对整型向量Z，以下哪些表达是合法的？ (★☆☆)**"
   ]
  },
  {
   "cell_type": "code",
   "execution_count": 25,
   "metadata": {},
   "outputs": [
    {
     "name": "stdout",
     "output_type": "stream",
     "text": [
      "[     1      4     27    256   3125  46656 823543]\n",
      "[ 1  2  4  8 16 32 64]\n",
      "[False False False False False False False]\n",
      "[0.+1.j 0.+2.j 0.+3.j 0.+4.j 0.+5.j 0.+6.j 0.+7.j]\n",
      "[1. 2. 3. 4. 5. 6. 7.]\n"
     ]
    },
    {
     "ename": "ValueError",
     "evalue": "The truth value of an array with more than one element is ambiguous. Use a.any() or a.all()",
     "output_type": "error",
     "traceback": [
      "\u001b[1;31m---------------------------------------------------------------------------\u001b[0m",
      "\u001b[1;31mValueError\u001b[0m                                Traceback (most recent call last)",
      "\u001b[1;32m<ipython-input-25-2bbf56fcda34>\u001b[0m in \u001b[0;36m<module>\u001b[1;34m\u001b[0m\n\u001b[0;32m      5\u001b[0m \u001b[0mprint\u001b[0m\u001b[1;33m(\u001b[0m\u001b[1;36m1j\u001b[0m\u001b[1;33m*\u001b[0m\u001b[0mz\u001b[0m\u001b[1;33m)\u001b[0m\u001b[1;33m\u001b[0m\u001b[1;33m\u001b[0m\u001b[0m\n\u001b[0;32m      6\u001b[0m \u001b[0mprint\u001b[0m\u001b[1;33m(\u001b[0m\u001b[0mz\u001b[0m\u001b[1;33m/\u001b[0m\u001b[1;36m1\u001b[0m\u001b[1;33m/\u001b[0m\u001b[1;36m1\u001b[0m\u001b[1;33m)\u001b[0m\u001b[1;33m\u001b[0m\u001b[1;33m\u001b[0m\u001b[0m\n\u001b[1;32m----> 7\u001b[1;33m \u001b[0mprint\u001b[0m\u001b[1;33m(\u001b[0m\u001b[0mz\u001b[0m\u001b[1;33m<\u001b[0m\u001b[0mz\u001b[0m\u001b[1;33m>\u001b[0m\u001b[0mz\u001b[0m\u001b[1;33m)\u001b[0m\u001b[1;33m\u001b[0m\u001b[1;33m\u001b[0m\u001b[0m\n\u001b[0m",
      "\u001b[1;31mValueError\u001b[0m: The truth value of an array with more than one element is ambiguous. Use a.any() or a.all()"
     ]
    }
   ],
   "source": [
    "z = np.array([1, 2, 3, 4, 5, 6, 7])\n",
    "print(z**z)\n",
    "print(2 << z >> 2) # 2先左移z位，再右移2位最终结果是，2^z/4 = 2^(z-2)\n",
    "print(z <- z)\n",
    "print(1j*z)\n",
    "print(z/1/1)\n",
    "print(z<z>z)"
   ]
  },
  {
   "cell_type": "markdown",
   "metadata": {},
   "source": [
    "#### **28. 下列表达式的结果 (★☆☆)**"
   ]
  },
  {
   "cell_type": "code",
   "execution_count": 27,
   "metadata": {},
   "outputs": [
    {
     "name": "stdout",
     "output_type": "stream",
     "text": [
      "nan\n",
      "0\n",
      "[-2.14748365e+09]\n"
     ]
    },
    {
     "name": "stderr",
     "output_type": "stream",
     "text": [
      "D:\\Anaconda3\\lib\\site-packages\\ipykernel_launcher.py:1: RuntimeWarning: invalid value encountered in true_divide\n",
      "  \"\"\"Entry point for launching an IPython kernel.\n",
      "D:\\Anaconda3\\lib\\site-packages\\ipykernel_launcher.py:2: RuntimeWarning: divide by zero encountered in floor_divide\n",
      "  \n"
     ]
    }
   ],
   "source": [
    "print(np.array(0) / np.array(0))\n",
    "print(np.array(0) // np.array(0))\n",
    "print(np.array([np.nan]).astype(int).astype(float))"
   ]
  },
  {
   "cell_type": "markdown",
   "metadata": {},
   "source": [
    "#### **29. 进行远离零的方向取整 (★☆☆)**"
   ]
  },
  {
   "cell_type": "code",
   "execution_count": 28,
   "metadata": {},
   "outputs": [
    {
     "name": "stdout",
     "output_type": "stream",
     "text": [
      "[-5.32897831 -4.42923708  8.99714752 -4.47835173 -6.37852266 -6.01199196\n",
      "  2.91663463  0.51547406 -6.85171917  3.34697294]\n",
      "[-6. -5.  9. -5. -7. -7.  3.  1. -7.  4.]\n"
     ]
    }
   ],
   "source": [
    "# 并不是单一的天花板函数\n",
    "# 而是先取绝对值，再进行天花板取整，然后再修正符号\n",
    "# 这个题挺实用的\n",
    "\n",
    "z = np.random.uniform(-10, +10, 10) # 从 -10 到 +10 有 10 个数\n",
    "print(z)\n",
    "print(np.copysign(np.ceil(np.abs(z)), z))"
   ]
  },
  {
   "cell_type": "markdown",
   "metadata": {},
   "source": [
    "#### **30. 寻找两个数组之间相同的值 (★☆☆)**"
   ]
  },
  {
   "cell_type": "code",
   "execution_count": 33,
   "metadata": {},
   "outputs": [
    {
     "name": "stdout",
     "output_type": "stream",
     "text": [
      "[1 3 0 9 1 4 4 3 8 4]\n",
      "[4 8 6 4 6 7 2 3 8 9]\n",
      "[3, 4, 8, 9]\n",
      "<class 'list'>\n",
      "[3 4 8 9]\n"
     ]
    }
   ],
   "source": [
    "z1 = np.random.randint(0, 10, 10)\n",
    "z2 = np.random.randint(0, 10, 10)\n",
    "print(z1)\n",
    "print(z2)\n",
    "\n",
    "# 第一种是列表的方法\n",
    "a = []\n",
    "for i in z1:\n",
    "    if i in z2 and i not in a:\n",
    "        a.append(i)\n",
    "a = sorted(a) # 进行排序\n",
    "print(a)\n",
    "print(type(a))\n",
    "\n",
    "# 第二种是数组的方式\n",
    "b = np.intersect1d(z1, z2) # 注意这里是1，而不是l，这函数用的就跟作弊一样\n",
    "print(b)"
   ]
  },
  {
   "cell_type": "markdown",
   "metadata": {},
   "source": [
    "#### **31. 如何忽略所有的np的警告？（不推荐） (★☆☆)**"
   ]
  },
  {
   "cell_type": "code",
   "execution_count": 36,
   "metadata": {},
   "outputs": [
    {
     "name": "stdout",
     "output_type": "stream",
     "text": [
      "[inf]\n"
     ]
    }
   ],
   "source": [
    "# suicide mode on\n",
    "defaults = np.seterr(all = \"ignore\")\n",
    "z = np.ones(1) / 0\n",
    "\n",
    "print(z)\n",
    "\n",
    "#  back to sanity\n",
    "\n",
    "# 另外一种等价的方式是\n",
    "with np.errstate(divide = 'ignore'):\n",
    "    z = np.ones(1) / 0"
   ]
  },
  {
   "cell_type": "markdown",
   "metadata": {},
   "source": [
    "#### **32. 下面的表达式是正确的吗？ (★☆☆)**"
   ]
  },
  {
   "cell_type": "code",
   "execution_count": 3,
   "metadata": {},
   "outputs": [
    {
     "name": "stderr",
     "output_type": "stream",
     "text": [
      "D:\\Anaconda3\\lib\\site-packages\\ipykernel_launcher.py:1: RuntimeWarning: invalid value encountered in sqrt\n",
      "  \"\"\"Entry point for launching an IPython kernel.\n"
     ]
    },
    {
     "data": {
      "text/plain": [
       "False"
      ]
     },
     "execution_count": 3,
     "metadata": {},
     "output_type": "execute_result"
    }
   ],
   "source": [
    "np.sqrt(-1) == np.emath.sqrt(-1) # 二者一个返回 nan，另一个返回 1j"
   ]
  },
  {
   "cell_type": "markdown",
   "metadata": {},
   "source": [
    "#### **33. 如何得到昨天今天和明天的日期？ (★☆☆)**"
   ]
  },
  {
   "cell_type": "code",
   "execution_count": 4,
   "metadata": {},
   "outputs": [
    {
     "name": "stdout",
     "output_type": "stream",
     "text": [
      "2019-07-28 2019-07-29 2019-07-30\n"
     ]
    }
   ],
   "source": [
    "yesterday = np.datetime64('today', 'D') - np.timedelta64(1, 'D')\n",
    "today     = np.datetime64('today', 'D')\n",
    "tomorrow  = np.datetime64('today', 'D') + np.timedelta64(1, 'D')\n",
    "print(yesterday, today, tomorrow)"
   ]
  },
  {
   "cell_type": "markdown",
   "metadata": {},
   "source": [
    "#### **34. 如何得到关于2016年7月的所有日期？ (★★☆)**"
   ]
  },
  {
   "cell_type": "code",
   "execution_count": 5,
   "metadata": {},
   "outputs": [
    {
     "name": "stdout",
     "output_type": "stream",
     "text": [
      "['2016-07-01' '2016-07-02' '2016-07-03' '2016-07-04' '2016-07-05'\n",
      " '2016-07-06' '2016-07-07' '2016-07-08' '2016-07-09' '2016-07-10'\n",
      " '2016-07-11' '2016-07-12' '2016-07-13' '2016-07-14' '2016-07-15'\n",
      " '2016-07-16' '2016-07-17' '2016-07-18' '2016-07-19' '2016-07-20'\n",
      " '2016-07-21' '2016-07-22' '2016-07-23' '2016-07-24' '2016-07-25'\n",
      " '2016-07-26' '2016-07-27' '2016-07-28' '2016-07-29' '2016-07-30'\n",
      " '2016-07-31']\n"
     ]
    }
   ],
   "source": [
    "# arange 真实一个神奇的函数啊\n",
    "z = np.arange('2016-07', '2016-08', dtype='datetime64[D]')\n",
    "print(z)"
   ]
  },
  {
   "cell_type": "markdown",
   "metadata": {},
   "source": [
    "#### **35. 如何计算(A+B)\\*(-A/2)（不用复制） (★★☆)**"
   ]
  },
  {
   "cell_type": "code",
   "execution_count": 7,
   "metadata": {},
   "outputs": [
    {
     "name": "stdout",
     "output_type": "stream",
     "text": [
      "[-1.5 -1.5 -1.5] [3. 3. 3.]\n"
     ]
    }
   ],
   "source": [
    "A = np.ones(3)*1\n",
    "B = np.ones(3)*2\n",
    "C = np.ones(3)*3\n",
    "\n",
    "np.add(A, B, out = B)\n",
    "np.divide(A,2 , out = A)\n",
    "np.negative(A, out = A)\n",
    "np.multiply(A, B, out = A)\n",
    "\n",
    "print(A,B)"
   ]
  },
  {
   "cell_type": "markdown",
   "metadata": {},
   "source": [
    "#### **36. 使用5种不同的方式来计算一个随机矩阵的整数部分 (★★☆)**"
   ]
  },
  {
   "cell_type": "code",
   "execution_count": 8,
   "metadata": {},
   "outputs": [
    {
     "name": "stdout",
     "output_type": "stream",
     "text": [
      "[3.89646867 8.36027004 9.76215534 6.5533294  8.11035813 5.16963373\n",
      " 1.19214778 8.12431399 0.29626936 8.19330068]\n",
      "[3. 8. 9. 6. 8. 5. 1. 8. 0. 8.]\n",
      "[3. 8. 9. 6. 8. 5. 1. 8. 0. 8.]\n",
      "[ 4.  9. 10.  7.  9.  6.  2.  9.  1.  9.]\n",
      "[3 8 9 6 8 5 1 8 0 8]\n",
      "[3. 8. 9. 6. 8. 5. 1. 8. 0. 8.]\n"
     ]
    }
   ],
   "source": [
    "z = np.random.uniform(0, 10, 10)\n",
    "print(z)\n",
    "\n",
    "print(z - z%1)\n",
    "print(np.floor(z))\n",
    "print(np.ceil(z))\n",
    "print(z.astype(int))\n",
    "print(np.trunc(z)) # 这个暂时不知道是什么意思，存疑吧"
   ]
  },
  {
   "cell_type": "markdown",
   "metadata": {},
   "source": [
    "#### **37. 创建一个5*5的矩阵，其中行数值从0至4 (★★☆)**"
   ]
  },
  {
   "cell_type": "code",
   "execution_count": 22,
   "metadata": {},
   "outputs": [
    {
     "name": "stdout",
     "output_type": "stream",
     "text": [
      "[[0. 1. 2. 3. 4.]\n",
      " [0. 1. 2. 3. 4.]\n",
      " [0. 1. 2. 3. 4.]\n",
      " [0. 1. 2. 3. 4.]\n",
      " [0. 1. 2. 3. 4.]]\n",
      "[[0. 1. 2. 3. 4.]\n",
      " [0. 1. 2. 3. 4.]\n",
      " [0. 1. 2. 3. 4.]\n",
      " [0. 1. 2. 3. 4.]\n",
      " [0. 1. 2. 3. 4.]]\n",
      "[[0. 1. 2. 3. 4.]\n",
      " [0. 1. 2. 3. 4.]\n",
      " [0. 1. 2. 3. 4.]\n",
      " [0. 1. 2. 3. 4.]\n",
      " [0. 1. 2. 3. 4.]]\n"
     ]
    }
   ],
   "source": [
    "# 指每一行都是从0到4\n",
    "\n",
    "z = np.ones((5,1))*np.arange(0,5) # 这种方式也是广播了，*是元素乘\n",
    "print(z)\n",
    "\n",
    "# 这种方式才是矩阵乘法\n",
    "# 特别主要要在 np.arange(5) 外边加上 []\n",
    "# 这样保证其形状是 (1, 5) 而不是 (5,)\n",
    "z1 = np.ones((5,1)).dot([np.arange(5)])\n",
    "print(z1)\n",
    "\n",
    "# 这是使用广播的方式\n",
    "z2 = np.zeros((5, 5))\n",
    "z2 += np.arange(5)\n",
    "print(z2)"
   ]
  },
  {
   "cell_type": "markdown",
   "metadata": {},
   "source": [
    "#### **38. 创建一个函数来生成10个整数，并用其来创建矩阵 (★☆☆)**"
   ]
  },
  {
   "cell_type": "code",
   "execution_count": 23,
   "metadata": {},
   "outputs": [
    {
     "name": "stdout",
     "output_type": "stream",
     "text": [
      "[0. 1. 2. 3. 4. 5. 6. 7. 8. 9.]\n"
     ]
    }
   ],
   "source": [
    "# 这其实就是一个生成器\n",
    "def generator():\n",
    "    for x in range(10):\n",
    "        yield x\n",
    "z = np.fromiter(generator(), dtype = float, count = -1)\n",
    "print(z)"
   ]
  },
  {
   "cell_type": "markdown",
   "metadata": {},
   "source": [
    "#### **39. 创建一个10维的向量，它的值从0到1（不包括0和1） (★★☆)**"
   ]
  },
  {
   "cell_type": "code",
   "execution_count": 24,
   "metadata": {},
   "outputs": [
    {
     "name": "stdout",
     "output_type": "stream",
     "text": [
      "[0.09090909 0.18181818 0.27272727 0.36363636 0.45454545 0.54545455\n",
      " 0.63636364 0.72727273 0.81818182 0.90909091]\n"
     ]
    }
   ],
   "source": [
    "z = np.linspace(0, 1, 11, endpoint = False)[1:]\n",
    "print(z)\n",
    "\n",
    "# 这个有点秀啊\n",
    "# endpoint 控制不会取到1，后边的[1:] 将首位0给排除除去"
   ]
  },
  {
   "cell_type": "markdown",
   "metadata": {},
   "source": [
    "#### **40. 创建一个10维的随机数组并且排序 (★★☆)**"
   ]
  },
  {
   "cell_type": "code",
   "execution_count": 25,
   "metadata": {},
   "outputs": [
    {
     "name": "stdout",
     "output_type": "stream",
     "text": [
      "[0.03535688 0.0499947  0.18598057 0.19512892 0.20947808 0.28189129\n",
      " 0.33780924 0.83946653 0.84452827 0.88433212]\n"
     ]
    }
   ],
   "source": [
    "z = np.random.random(10)\n",
    "z.sort()\n",
    "print(z)"
   ]
  },
  {
   "cell_type": "markdown",
   "metadata": {},
   "source": [
    "#### **41. 如何对一个小数组快速求和？（比np.sum更快） (★★☆)**"
   ]
  },
  {
   "cell_type": "code",
   "execution_count": 26,
   "metadata": {},
   "outputs": [
    {
     "name": "stdout",
     "output_type": "stream",
     "text": [
      "45\n",
      "[45]\n"
     ]
    }
   ],
   "source": [
    "z = np.arange(10)\n",
    "\n",
    "# 这个没看懂\n",
    "print(np.add.reduce(z))\n",
    "\n",
    "# 这个是矩阵相乘\n",
    "print(z.dot(np.ones((10, 1), dtype = int)))"
   ]
  },
  {
   "cell_type": "markdown",
   "metadata": {},
   "source": [
    "#### **42. 检查两个随机矩阵是否相等 (★★☆)**"
   ]
  },
  {
   "cell_type": "code",
   "execution_count": 27,
   "metadata": {},
   "outputs": [
    {
     "name": "stdout",
     "output_type": "stream",
     "text": [
      "False\n",
      "False\n"
     ]
    }
   ],
   "source": [
    "A = np.random.randint(0,2,5)\n",
    "B = np.random.randint(0,2,5)\n",
    "\n",
    "equal = np.allclose(A, B)\n",
    "print(equal)\n",
    "\n",
    "equal = np.array_equal(A, B)\n",
    "print(equal)"
   ]
  },
  {
   "cell_type": "markdown",
   "metadata": {},
   "source": [
    "#### **43. 使数组不可变（只读） (★★☆)**"
   ]
  },
  {
   "cell_type": "code",
   "execution_count": 28,
   "metadata": {},
   "outputs": [
    {
     "ename": "ValueError",
     "evalue": "assignment destination is read-only",
     "output_type": "error",
     "traceback": [
      "\u001b[1;31m---------------------------------------------------------------------------\u001b[0m",
      "\u001b[1;31mValueError\u001b[0m                                Traceback (most recent call last)",
      "\u001b[1;32m<ipython-input-28-e7ca576a283b>\u001b[0m in \u001b[0;36m<module>\u001b[1;34m\u001b[0m\n\u001b[0;32m      1\u001b[0m \u001b[0mz\u001b[0m \u001b[1;33m=\u001b[0m \u001b[0mnp\u001b[0m\u001b[1;33m.\u001b[0m\u001b[0mzeros\u001b[0m\u001b[1;33m(\u001b[0m\u001b[1;36m10\u001b[0m\u001b[1;33m)\u001b[0m\u001b[1;33m\u001b[0m\u001b[1;33m\u001b[0m\u001b[0m\n\u001b[0;32m      2\u001b[0m \u001b[0mz\u001b[0m\u001b[1;33m.\u001b[0m\u001b[0mflags\u001b[0m\u001b[1;33m.\u001b[0m\u001b[0mwriteable\u001b[0m \u001b[1;33m=\u001b[0m \u001b[1;32mFalse\u001b[0m\u001b[1;33m\u001b[0m\u001b[1;33m\u001b[0m\u001b[0m\n\u001b[1;32m----> 3\u001b[1;33m \u001b[0mz\u001b[0m\u001b[1;33m[\u001b[0m\u001b[1;36m0\u001b[0m\u001b[1;33m]\u001b[0m \u001b[1;33m=\u001b[0m \u001b[1;36m1\u001b[0m\u001b[1;33m\u001b[0m\u001b[1;33m\u001b[0m\u001b[0m\n\u001b[0m",
      "\u001b[1;31mValueError\u001b[0m: assignment destination is read-only"
     ]
    }
   ],
   "source": [
    "z = np.zeros(10)\n",
    "z.flags.writeable = False\n",
    "z[0] = 1"
   ]
  },
  {
   "cell_type": "markdown",
   "metadata": {},
   "source": [
    "#### **44. 若10\\*2的数组存储着笛卡尔坐标，转换为极坐标 (★★☆)**"
   ]
  },
  {
   "cell_type": "code",
   "execution_count": 30,
   "metadata": {},
   "outputs": [
    {
     "name": "stdout",
     "output_type": "stream",
     "text": [
      "[0.96606095 0.41956829 1.02604044 0.85435302 0.06899294 0.49997685\n",
      " 0.55082926 0.14326906 0.66889473 0.87355624]\n",
      "[0.74050416 0.5561809  1.25458524 0.14125606 0.05970711 0.14611368\n",
      " 0.45944812 0.05816625 0.25486273 0.85710539]\n"
     ]
    }
   ],
   "source": [
    "z = np.random.random((10,2))\n",
    "x,y = z[:,0],z[:,1] # 这种赋值方式需要学习\n",
    "\n",
    "# 直接利用公式\n",
    "r = np.sqrt(x**2+y**2)\n",
    "t = np.arctan2(y,x)\n",
    "\n",
    "print(r)\n",
    "print(t)"
   ]
  },
  {
   "cell_type": "markdown",
   "metadata": {},
   "source": [
    "#### **创建一个10维的向量，将最大值替换为0 (★★☆)**"
   ]
  },
  {
   "cell_type": "code",
   "execution_count": 32,
   "metadata": {},
   "outputs": [
    {
     "name": "stdout",
     "output_type": "stream",
     "text": [
      "[0.01428117 0.81731075 0.91236795 0.6647293  0.9186818  0.90971014\n",
      " 0.78407816 0.83306642 0.74459638 0.41232486]\n",
      "[0.01428117 0.81731075 0.91236795 0.6647293  0.         0.90971014\n",
      " 0.78407816 0.83306642 0.74459638 0.41232486]\n",
      "[0.01428117 0.81731075 0.         0.6647293  0.         0.90971014\n",
      " 0.78407816 0.83306642 0.74459638 0.41232486]\n"
     ]
    }
   ],
   "source": [
    "a = np.random.random(10)\n",
    "print(a)\n",
    "\n",
    "z = a\n",
    "z[z.argmax()] = 0\n",
    "print(z)\n",
    "\n",
    "# 使用更加底层的方法实现一遍\n",
    "# 首先找到最大值和索引\n",
    "max_value = 0\n",
    "max_index = 0\n",
    "for i in range(len(a)):\n",
    "    if a[i] >= max_value:\n",
    "        max_value = a[i]\n",
    "        max_index = i\n",
    "a[max_index] = 0\n",
    "print(a)"
   ]
  },
  {
   "cell_type": "markdown",
   "metadata": {},
   "source": [
    "#### **46. 创建一个结构数组，具有x和y坐标，覆盖 [0,1]x[0,1]的区域 (★★☆)**"
   ]
  },
  {
   "cell_type": "code",
   "execution_count": 33,
   "metadata": {},
   "outputs": [
    {
     "name": "stdout",
     "output_type": "stream",
     "text": [
      "[[(0.  , 0.  ) (0.25, 0.  ) (0.5 , 0.  ) (0.75, 0.  ) (1.  , 0.  )]\n",
      " [(0.  , 0.25) (0.25, 0.25) (0.5 , 0.25) (0.75, 0.25) (1.  , 0.25)]\n",
      " [(0.  , 0.5 ) (0.25, 0.5 ) (0.5 , 0.5 ) (0.75, 0.5 ) (1.  , 0.5 )]\n",
      " [(0.  , 0.75) (0.25, 0.75) (0.5 , 0.75) (0.75, 0.75) (1.  , 0.75)]\n",
      " [(0.  , 1.  ) (0.25, 1.  ) (0.5 , 1.  ) (0.75, 1.  ) (1.  , 1.  )]]\n"
     ]
    }
   ],
   "source": [
    "z = np.zeros((5, 5), [('x', float), ('y', float)])\n",
    "z['x'], z['y'] = np.meshgrid(np.linspace(0,1,5), np.linspace(0,1,5))\n",
    "print(z)"
   ]
  },
  {
   "cell_type": "markdown",
   "metadata": {},
   "source": [
    "#### **47. 给定两个数组 X 和 Y ，组合为柯西矩阵 C (Cij =1/(xi - yj)) (★★☆)**"
   ]
  },
  {
   "cell_type": "code",
   "execution_count": 34,
   "metadata": {},
   "outputs": [
    {
     "name": "stdout",
     "output_type": "stream",
     "text": [
      "3638.1636371179666\n"
     ]
    }
   ],
   "source": [
    "x = np.arange(8)\n",
    "y = x + 0.5\n",
    "c = 1.0 / np.subtract.outer(x, y)\n",
    "print(np.linalg.det(c))"
   ]
  },
  {
   "cell_type": "markdown",
   "metadata": {},
   "source": [
    "#### **48. 打印每个numpy标量的最小和最大可表示值类型 (★★☆)**"
   ]
  },
  {
   "cell_type": "code",
   "execution_count": 37,
   "metadata": {},
   "outputs": [
    {
     "name": "stdout",
     "output_type": "stream",
     "text": [
      "-128\n",
      "127\n",
      "-2147483648\n",
      "2147483647\n",
      "-9223372036854775808\n",
      "9223372036854775807\n",
      "-3.4028235e+38\n",
      "3.4028235e+38\n",
      "1.1920929e-07\n",
      "-1.7976931348623157e+308\n",
      "1.7976931348623157e+308\n",
      "2.220446049250313e-16\n"
     ]
    }
   ],
   "source": [
    "for dtype in [np.int8, np.int32, np.int64]:\n",
    "    print(np.iinfo(dtype).min)\n",
    "    print(np.iinfo(dtype).max)\n",
    "for dtype in [np.float32, np.float64]:\n",
    "    print(np.finfo(dtype).min)\n",
    "    print(np.finfo(dtype).max)\n",
    "    print(np.finfo(dtype).eps)"
   ]
  },
  {
   "cell_type": "markdown",
   "metadata": {},
   "source": [
    "#### **49. 如何打印数组中的所有值 (★★☆)**"
   ]
  },
  {
   "cell_type": "code",
   "execution_count": 38,
   "metadata": {},
   "outputs": [
    {
     "name": "stdout",
     "output_type": "stream",
     "text": [
      "[[0. 0. 0. 0. 0. 0. 0. 0. 0. 0. 0. 0. 0. 0. 0. 0.]\n",
      " [0. 0. 0. 0. 0. 0. 0. 0. 0. 0. 0. 0. 0. 0. 0. 0.]\n",
      " [0. 0. 0. 0. 0. 0. 0. 0. 0. 0. 0. 0. 0. 0. 0. 0.]\n",
      " [0. 0. 0. 0. 0. 0. 0. 0. 0. 0. 0. 0. 0. 0. 0. 0.]\n",
      " [0. 0. 0. 0. 0. 0. 0. 0. 0. 0. 0. 0. 0. 0. 0. 0.]\n",
      " [0. 0. 0. 0. 0. 0. 0. 0. 0. 0. 0. 0. 0. 0. 0. 0.]\n",
      " [0. 0. 0. 0. 0. 0. 0. 0. 0. 0. 0. 0. 0. 0. 0. 0.]\n",
      " [0. 0. 0. 0. 0. 0. 0. 0. 0. 0. 0. 0. 0. 0. 0. 0.]\n",
      " [0. 0. 0. 0. 0. 0. 0. 0. 0. 0. 0. 0. 0. 0. 0. 0.]\n",
      " [0. 0. 0. 0. 0. 0. 0. 0. 0. 0. 0. 0. 0. 0. 0. 0.]\n",
      " [0. 0. 0. 0. 0. 0. 0. 0. 0. 0. 0. 0. 0. 0. 0. 0.]\n",
      " [0. 0. 0. 0. 0. 0. 0. 0. 0. 0. 0. 0. 0. 0. 0. 0.]\n",
      " [0. 0. 0. 0. 0. 0. 0. 0. 0. 0. 0. 0. 0. 0. 0. 0.]\n",
      " [0. 0. 0. 0. 0. 0. 0. 0. 0. 0. 0. 0. 0. 0. 0. 0.]\n",
      " [0. 0. 0. 0. 0. 0. 0. 0. 0. 0. 0. 0. 0. 0. 0. 0.]\n",
      " [0. 0. 0. 0. 0. 0. 0. 0. 0. 0. 0. 0. 0. 0. 0. 0.]]\n"
     ]
    }
   ],
   "source": [
    "np.set_printoptions(threshold=np.nan)\n",
    "z = np.zeros((16,16))\n",
    "print(z)"
   ]
  },
  {
   "cell_type": "markdown",
   "metadata": {},
   "source": [
    "#### **50. 如何在向量中找到最接近的值（给定标量）？ (★★☆)**"
   ]
  },
  {
   "cell_type": "code",
   "execution_count": 41,
   "metadata": {},
   "outputs": [
    {
     "name": "stdout",
     "output_type": "stream",
     "text": [
      "71\n"
     ]
    }
   ],
   "source": [
    "z = np.arange(100)\n",
    "v = np.random.uniform(0,100)\n",
    "index = (np.abs(z-v)).argmin()\n",
    "print(z[index])"
   ]
  },
  {
   "cell_type": "markdown",
   "metadata": {},
   "source": [
    "#### **47. 给定两个数组 X 和 Y ，组合为柯西矩阵 C (Cij =1/(xi - yj)) (★★☆)**"
   ]
  },
  {
   "cell_type": "code",
   "execution_count": null,
   "metadata": {},
   "outputs": [],
   "source": []
  },
  {
   "cell_type": "markdown",
   "metadata": {},
   "source": [
    "#### **47. 给定两个数组 X 和 Y ，组合为柯西矩阵 C (Cij =1/(xi - yj)) (★★☆)**"
   ]
  },
  {
   "cell_type": "code",
   "execution_count": null,
   "metadata": {},
   "outputs": [],
   "source": []
  },
  {
   "cell_type": "markdown",
   "metadata": {},
   "source": [
    "#### **47. 给定两个数组 X 和 Y ，组合为柯西矩阵 C (Cij =1/(xi - yj)) (★★☆)**"
   ]
  },
  {
   "cell_type": "code",
   "execution_count": null,
   "metadata": {},
   "outputs": [],
   "source": []
  },
  {
   "cell_type": "markdown",
   "metadata": {},
   "source": [
    "#### **47. 给定两个数组 X 和 Y ，组合为柯西矩阵 C (Cij =1/(xi - yj)) (★★☆)**"
   ]
  },
  {
   "cell_type": "code",
   "execution_count": null,
   "metadata": {},
   "outputs": [],
   "source": []
  },
  {
   "cell_type": "markdown",
   "metadata": {},
   "source": [
    "#### **47. 给定两个数组 X 和 Y ，组合为柯西矩阵 C (Cij =1/(xi - yj)) (★★☆)**"
   ]
  },
  {
   "cell_type": "code",
   "execution_count": null,
   "metadata": {},
   "outputs": [],
   "source": []
  },
  {
   "cell_type": "markdown",
   "metadata": {},
   "source": [
    "#### **47. 给定两个数组 X 和 Y ，组合为柯西矩阵 C (Cij =1/(xi - yj)) (★★☆)**"
   ]
  },
  {
   "cell_type": "code",
   "execution_count": null,
   "metadata": {},
   "outputs": [],
   "source": []
  },
  {
   "cell_type": "markdown",
   "metadata": {},
   "source": [
    "#### **47. 给定两个数组 X 和 Y ，组合为柯西矩阵 C (Cij =1/(xi - yj)) (★★☆)**"
   ]
  },
  {
   "cell_type": "code",
   "execution_count": null,
   "metadata": {},
   "outputs": [],
   "source": []
  },
  {
   "cell_type": "markdown",
   "metadata": {},
   "source": [
    "#### **47. 给定两个数组 X 和 Y ，组合为柯西矩阵 C (Cij =1/(xi - yj)) (★★☆)**"
   ]
  },
  {
   "cell_type": "code",
   "execution_count": null,
   "metadata": {},
   "outputs": [],
   "source": []
  },
  {
   "cell_type": "markdown",
   "metadata": {},
   "source": [
    "#### **47. 给定两个数组 X 和 Y ，组合为柯西矩阵 C (Cij =1/(xi - yj)) (★★☆)**"
   ]
  },
  {
   "cell_type": "code",
   "execution_count": null,
   "metadata": {},
   "outputs": [],
   "source": []
  },
  {
   "cell_type": "markdown",
   "metadata": {},
   "source": [
    "#### **47. 给定两个数组 X 和 Y ，组合为柯西矩阵 C (Cij =1/(xi - yj)) (★★☆)**"
   ]
  },
  {
   "cell_type": "code",
   "execution_count": null,
   "metadata": {},
   "outputs": [],
   "source": []
  },
  {
   "cell_type": "markdown",
   "metadata": {},
   "source": [
    "#### **47. 给定两个数组 X 和 Y ，组合为柯西矩阵 C (Cij =1/(xi - yj)) (★★☆)**"
   ]
  },
  {
   "cell_type": "code",
   "execution_count": null,
   "metadata": {},
   "outputs": [],
   "source": []
  },
  {
   "cell_type": "markdown",
   "metadata": {},
   "source": [
    "#### **47. 给定两个数组 X 和 Y ，组合为柯西矩阵 C (Cij =1/(xi - yj)) (★★☆)**"
   ]
  },
  {
   "cell_type": "code",
   "execution_count": null,
   "metadata": {},
   "outputs": [],
   "source": []
  },
  {
   "cell_type": "markdown",
   "metadata": {},
   "source": [
    "#### **47. 给定两个数组 X 和 Y ，组合为柯西矩阵 C (Cij =1/(xi - yj)) (★★☆)**"
   ]
  },
  {
   "cell_type": "code",
   "execution_count": null,
   "metadata": {},
   "outputs": [],
   "source": []
  },
  {
   "cell_type": "markdown",
   "metadata": {},
   "source": [
    "#### **47. 给定两个数组 X 和 Y ，组合为柯西矩阵 C (Cij =1/(xi - yj)) (★★☆)**"
   ]
  },
  {
   "cell_type": "code",
   "execution_count": null,
   "metadata": {},
   "outputs": [],
   "source": []
  },
  {
   "cell_type": "markdown",
   "metadata": {},
   "source": [
    "#### **47. 给定两个数组 X 和 Y ，组合为柯西矩阵 C (Cij =1/(xi - yj)) (★★☆)**"
   ]
  },
  {
   "cell_type": "code",
   "execution_count": null,
   "metadata": {},
   "outputs": [],
   "source": []
  },
  {
   "cell_type": "markdown",
   "metadata": {},
   "source": [
    "#### **47. 给定两个数组 X 和 Y ，组合为柯西矩阵 C (Cij =1/(xi - yj)) (★★☆)**"
   ]
  },
  {
   "cell_type": "code",
   "execution_count": null,
   "metadata": {},
   "outputs": [],
   "source": []
  },
  {
   "cell_type": "markdown",
   "metadata": {},
   "source": [
    "#### **47. 给定两个数组 X 和 Y ，组合为柯西矩阵 C (Cij =1/(xi - yj)) (★★☆)**"
   ]
  },
  {
   "cell_type": "code",
   "execution_count": null,
   "metadata": {},
   "outputs": [],
   "source": []
  },
  {
   "cell_type": "markdown",
   "metadata": {},
   "source": [
    "#### **47. 给定两个数组 X 和 Y ，组合为柯西矩阵 C (Cij =1/(xi - yj)) (★★☆)**"
   ]
  },
  {
   "cell_type": "code",
   "execution_count": null,
   "metadata": {},
   "outputs": [],
   "source": []
  },
  {
   "cell_type": "markdown",
   "metadata": {},
   "source": [
    "#### **47. 给定两个数组 X 和 Y ，组合为柯西矩阵 C (Cij =1/(xi - yj)) (★★☆)**"
   ]
  },
  {
   "cell_type": "code",
   "execution_count": null,
   "metadata": {},
   "outputs": [],
   "source": []
  },
  {
   "cell_type": "markdown",
   "metadata": {},
   "source": [
    "#### **47. 给定两个数组 X 和 Y ，组合为柯西矩阵 C (Cij =1/(xi - yj)) (★★☆)**"
   ]
  },
  {
   "cell_type": "code",
   "execution_count": null,
   "metadata": {},
   "outputs": [],
   "source": []
  },
  {
   "cell_type": "markdown",
   "metadata": {},
   "source": [
    "#### **47. 给定两个数组 X 和 Y ，组合为柯西矩阵 C (Cij =1/(xi - yj)) (★★☆)**"
   ]
  },
  {
   "cell_type": "code",
   "execution_count": null,
   "metadata": {},
   "outputs": [],
   "source": []
  },
  {
   "cell_type": "markdown",
   "metadata": {},
   "source": [
    "#### **47. 给定两个数组 X 和 Y ，组合为柯西矩阵 C (Cij =1/(xi - yj)) (★★☆)**"
   ]
  },
  {
   "cell_type": "code",
   "execution_count": null,
   "metadata": {},
   "outputs": [],
   "source": []
  },
  {
   "cell_type": "markdown",
   "metadata": {},
   "source": [
    "#### **47. 给定两个数组 X 和 Y ，组合为柯西矩阵 C (Cij =1/(xi - yj)) (★★☆)**"
   ]
  },
  {
   "cell_type": "code",
   "execution_count": null,
   "metadata": {},
   "outputs": [],
   "source": []
  },
  {
   "cell_type": "markdown",
   "metadata": {},
   "source": [
    "#### **47. 给定两个数组 X 和 Y ，组合为柯西矩阵 C (Cij =1/(xi - yj)) (★★☆)**"
   ]
  },
  {
   "cell_type": "code",
   "execution_count": null,
   "metadata": {},
   "outputs": [],
   "source": []
  },
  {
   "cell_type": "markdown",
   "metadata": {},
   "source": [
    "#### **47. 给定两个数组 X 和 Y ，组合为柯西矩阵 C (Cij =1/(xi - yj)) (★★☆)**"
   ]
  },
  {
   "cell_type": "code",
   "execution_count": null,
   "metadata": {},
   "outputs": [],
   "source": []
  },
  {
   "cell_type": "markdown",
   "metadata": {},
   "source": [
    "#### **47. 给定两个数组 X 和 Y ，组合为柯西矩阵 C (Cij =1/(xi - yj)) (★★☆)**"
   ]
  },
  {
   "cell_type": "code",
   "execution_count": null,
   "metadata": {},
   "outputs": [],
   "source": []
  },
  {
   "cell_type": "markdown",
   "metadata": {},
   "source": [
    "#### **47. 给定两个数组 X 和 Y ，组合为柯西矩阵 C (Cij =1/(xi - yj)) (★★☆)**"
   ]
  },
  {
   "cell_type": "code",
   "execution_count": null,
   "metadata": {},
   "outputs": [],
   "source": []
  },
  {
   "cell_type": "markdown",
   "metadata": {},
   "source": [
    "#### **47. 给定两个数组 X 和 Y ，组合为柯西矩阵 C (Cij =1/(xi - yj)) (★★☆)**"
   ]
  },
  {
   "cell_type": "code",
   "execution_count": null,
   "metadata": {},
   "outputs": [],
   "source": []
  },
  {
   "cell_type": "markdown",
   "metadata": {},
   "source": [
    "#### **47. 给定两个数组 X 和 Y ，组合为柯西矩阵 C (Cij =1/(xi - yj)) (★★☆)**"
   ]
  },
  {
   "cell_type": "code",
   "execution_count": null,
   "metadata": {},
   "outputs": [],
   "source": []
  },
  {
   "cell_type": "markdown",
   "metadata": {},
   "source": [
    "#### **47. 给定两个数组 X 和 Y ，组合为柯西矩阵 C (Cij =1/(xi - yj)) (★★☆)**"
   ]
  },
  {
   "cell_type": "code",
   "execution_count": null,
   "metadata": {},
   "outputs": [],
   "source": []
  },
  {
   "cell_type": "markdown",
   "metadata": {},
   "source": [
    "#### **47. 给定两个数组 X 和 Y ，组合为柯西矩阵 C (Cij =1/(xi - yj)) (★★☆)**"
   ]
  },
  {
   "cell_type": "code",
   "execution_count": null,
   "metadata": {},
   "outputs": [],
   "source": []
  },
  {
   "cell_type": "markdown",
   "metadata": {},
   "source": [
    "#### **47. 给定两个数组 X 和 Y ，组合为柯西矩阵 C (Cij =1/(xi - yj)) (★★☆)**"
   ]
  },
  {
   "cell_type": "code",
   "execution_count": null,
   "metadata": {},
   "outputs": [],
   "source": []
  }
 ],
 "metadata": {
  "kernelspec": {
   "display_name": "Python 3",
   "language": "python",
   "name": "python3"
  },
  "language_info": {
   "codemirror_mode": {
    "name": "ipython",
    "version": 3
   },
   "file_extension": ".py",
   "mimetype": "text/x-python",
   "name": "python",
   "nbconvert_exporter": "python",
   "pygments_lexer": "ipython3",
   "version": "3.7.1"
  }
 },
 "nbformat": 4,
 "nbformat_minor": 2
}
