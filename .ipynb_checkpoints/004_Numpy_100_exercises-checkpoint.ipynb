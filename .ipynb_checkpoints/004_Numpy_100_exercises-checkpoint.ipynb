{
 "cells": [
  {
   "cell_type": "markdown",
   "metadata": {},
   "source": [
    "# NumPy 100 Exercises"
   ]
  },
  {
   "cell_type": "markdown",
   "metadata": {},
   "source": [
    "## 说明\n",
    "\n",
    "该文档是对[《100 numpy exercises》](https://github.com/rougier/numpy-100/blob/master/100_Numpy_exercises.md)的学习笔记。"
   ]
  },
  {
   "cell_type": "markdown",
   "metadata": {},
   "source": [
    "#### **1. 导入numpy作为np (★☆☆)**"
   ]
  },
  {
   "cell_type": "code",
   "execution_count": 1,
   "metadata": {},
   "outputs": [],
   "source": [
    "import numpy as np"
   ]
  },
  {
   "cell_type": "markdown",
   "metadata": {},
   "source": [
    "#### **2. 打印numpy的版本信息和配置 (★☆☆)**"
   ]
  },
  {
   "cell_type": "code",
   "execution_count": 2,
   "metadata": {},
   "outputs": [
    {
     "name": "stdout",
     "output_type": "stream",
     "text": [
      "1.15.4\n",
      "mkl_info:\n",
      "    libraries = ['mkl_rt']\n",
      "    library_dirs = ['D:/Anaconda3\\\\Library\\\\lib']\n",
      "    define_macros = [('SCIPY_MKL_H', None), ('HAVE_CBLAS', None)]\n",
      "    include_dirs = ['C:\\\\Program Files (x86)\\\\IntelSWTools\\\\compilers_and_libraries_2019.0.117\\\\windows\\\\mkl', 'C:\\\\Program Files (x86)\\\\IntelSWTools\\\\compilers_and_libraries_2019.0.117\\\\windows\\\\mkl\\\\include', 'C:\\\\Program Files (x86)\\\\IntelSWTools\\\\compilers_and_libraries_2019.0.117\\\\windows\\\\mkl\\\\lib', 'D:/Anaconda3\\\\Library\\\\include']\n",
      "blas_mkl_info:\n",
      "    libraries = ['mkl_rt']\n",
      "    library_dirs = ['D:/Anaconda3\\\\Library\\\\lib']\n",
      "    define_macros = [('SCIPY_MKL_H', None), ('HAVE_CBLAS', None)]\n",
      "    include_dirs = ['C:\\\\Program Files (x86)\\\\IntelSWTools\\\\compilers_and_libraries_2019.0.117\\\\windows\\\\mkl', 'C:\\\\Program Files (x86)\\\\IntelSWTools\\\\compilers_and_libraries_2019.0.117\\\\windows\\\\mkl\\\\include', 'C:\\\\Program Files (x86)\\\\IntelSWTools\\\\compilers_and_libraries_2019.0.117\\\\windows\\\\mkl\\\\lib', 'D:/Anaconda3\\\\Library\\\\include']\n",
      "blas_opt_info:\n",
      "    libraries = ['mkl_rt']\n",
      "    library_dirs = ['D:/Anaconda3\\\\Library\\\\lib']\n",
      "    define_macros = [('SCIPY_MKL_H', None), ('HAVE_CBLAS', None)]\n",
      "    include_dirs = ['C:\\\\Program Files (x86)\\\\IntelSWTools\\\\compilers_and_libraries_2019.0.117\\\\windows\\\\mkl', 'C:\\\\Program Files (x86)\\\\IntelSWTools\\\\compilers_and_libraries_2019.0.117\\\\windows\\\\mkl\\\\include', 'C:\\\\Program Files (x86)\\\\IntelSWTools\\\\compilers_and_libraries_2019.0.117\\\\windows\\\\mkl\\\\lib', 'D:/Anaconda3\\\\Library\\\\include']\n",
      "lapack_mkl_info:\n",
      "    libraries = ['mkl_rt']\n",
      "    library_dirs = ['D:/Anaconda3\\\\Library\\\\lib']\n",
      "    define_macros = [('SCIPY_MKL_H', None), ('HAVE_CBLAS', None)]\n",
      "    include_dirs = ['C:\\\\Program Files (x86)\\\\IntelSWTools\\\\compilers_and_libraries_2019.0.117\\\\windows\\\\mkl', 'C:\\\\Program Files (x86)\\\\IntelSWTools\\\\compilers_and_libraries_2019.0.117\\\\windows\\\\mkl\\\\include', 'C:\\\\Program Files (x86)\\\\IntelSWTools\\\\compilers_and_libraries_2019.0.117\\\\windows\\\\mkl\\\\lib', 'D:/Anaconda3\\\\Library\\\\include']\n",
      "lapack_opt_info:\n",
      "    libraries = ['mkl_rt']\n",
      "    library_dirs = ['D:/Anaconda3\\\\Library\\\\lib']\n",
      "    define_macros = [('SCIPY_MKL_H', None), ('HAVE_CBLAS', None)]\n",
      "    include_dirs = ['C:\\\\Program Files (x86)\\\\IntelSWTools\\\\compilers_and_libraries_2019.0.117\\\\windows\\\\mkl', 'C:\\\\Program Files (x86)\\\\IntelSWTools\\\\compilers_and_libraries_2019.0.117\\\\windows\\\\mkl\\\\include', 'C:\\\\Program Files (x86)\\\\IntelSWTools\\\\compilers_and_libraries_2019.0.117\\\\windows\\\\mkl\\\\lib', 'D:/Anaconda3\\\\Library\\\\include']\n"
     ]
    }
   ],
   "source": [
    "print(np.__version__)\n",
    "np.show_config()"
   ]
  },
  {
   "cell_type": "code",
   "execution_count": 7,
   "metadata": {},
   "outputs": [
    {
     "name": "stdout",
     "output_type": "stream",
     "text": [
      "[0. 0. 0. 0. 0. 0. 0. 0. 0. 0.]\n"
     ]
    }
   ],
   "source": [
    "# 003. 创建一个空矢量，大小为1*10\n",
    "z = np.zeros(10)\n",
    "print(z)"
   ]
  },
  {
   "cell_type": "code",
   "execution_count": 8,
   "metadata": {},
   "outputs": [
    {
     "name": "stdout",
     "output_type": "stream",
     "text": [
      "800 bytes\n"
     ]
    }
   ],
   "source": [
    "# 004. 寻找数组的内存大小\n",
    "z = np.zeros((10, 10))\n",
    "print('%d bytes' % (z.size * z.itemsize))"
   ]
  },
  {
   "cell_type": "code",
   "execution_count": 10,
   "metadata": {},
   "outputs": [
    {
     "name": "stderr",
     "output_type": "stream",
     "text": [
      "ERROR:root:File `'`python.py'` not found.\n"
     ]
    }
   ],
   "source": [
    "# 005. 如何从命令行获取numpy add函数的文档?(这个有错误)\n",
    "%run `python -c \"import numpy; numpy.info(numpy.add)\"`"
   ]
  },
  {
   "cell_type": "code",
   "execution_count": 11,
   "metadata": {},
   "outputs": [
    {
     "name": "stdout",
     "output_type": "stream",
     "text": [
      "[0. 0. 0. 0. 1. 0. 0. 0. 0. 0.]\n"
     ]
    }
   ],
   "source": [
    "# 006. 创建一个10维空向量，但是第五个值为1\n",
    "z = np.zeros(10)\n",
    "z[4] = 1\n",
    "print(z)"
   ]
  },
  {
   "cell_type": "code",
   "execution_count": 19,
   "metadata": {},
   "outputs": [
    {
     "name": "stdout",
     "output_type": "stream",
     "text": [
      "[10 11 12 13 14 15 16 17 18 19 20 21 22 23 24 25 26 27 28 29 30 31 32 33\n",
      " 34 35 36 37 38 39 40 41 42 43 44 45 46 47 48 49]\n"
     ]
    }
   ],
   "source": [
    "# 007. 创建一个向量，值为从10到49\n",
    "z = np.arange(10, 50)\n",
    "print(z)"
   ]
  },
  {
   "cell_type": "code",
   "execution_count": 25,
   "metadata": {},
   "outputs": [
    {
     "name": "stdout",
     "output_type": "stream",
     "text": [
      "[-0.27373847 -1.41541707  0.87601102  0.24268626  0.35244086]\n",
      "[ 0.35244086  0.24268626  0.87601102 -1.41541707 -0.27373847]\n"
     ]
    }
   ],
   "source": [
    "# 008. 反转一个向量\n",
    "z = np.random.randn(5)\n",
    "print(z)\n",
    "z = z[::-1]\n",
    "# 其实就是这样 z = z[-1:-len(z)-1:-1] # 注意切片是左闭右开，即-6取不到\n",
    "print(z)"
   ]
  },
  {
   "cell_type": "code",
   "execution_count": 28,
   "metadata": {},
   "outputs": [
    {
     "name": "stdout",
     "output_type": "stream",
     "text": [
      "[0 1 2 3 4 5 6 7 8]\n",
      "[[0 1 2]\n",
      " [3 4 5]\n",
      " [6 7 8]]\n"
     ]
    }
   ],
   "source": [
    "# 009. 创建3*3矩阵，值为0-8\n",
    "z = np.arange(9)\n",
    "print(z)\n",
    "z = z.reshape(3, 3)\n",
    "print(z)\n",
    "# 其实就是 z = np.arange(9).reshape(3, 3)"
   ]
  },
  {
   "cell_type": "code",
   "execution_count": 32,
   "metadata": {},
   "outputs": [
    {
     "name": "stdout",
     "output_type": "stream",
     "text": [
      "[ True  True False False  True False]\n",
      "(array([0, 1, 4], dtype=int64),)\n"
     ]
    }
   ],
   "source": [
    "# 010. 找打[1,2,0,0,4,0]中的非零值\n",
    "z = [1, 2, 0, 0, 4, 0]\n",
    "print(z != np.zeros(6))\n",
    "\n",
    "# 以下这种方式更好：\n",
    "nz = np.nonzero([1, 2, 0, 0, 4, 0])\n",
    "print(nz)"
   ]
  },
  {
   "cell_type": "code",
   "execution_count": 36,
   "metadata": {},
   "outputs": [
    {
     "name": "stdout",
     "output_type": "stream",
     "text": [
      "[[1 0 0]\n",
      " [0 1 0]\n",
      " [0 0 1]]\n"
     ]
    }
   ],
   "source": [
    "# 011. 创建3*3单位阵\n",
    "z = np.eye(3, dtype = 'int') # 其实不用加类型\n",
    "print(z)"
   ]
  },
  {
   "cell_type": "code",
   "execution_count": 48,
   "metadata": {},
   "outputs": [
    {
     "name": "stdout",
     "output_type": "stream",
     "text": [
      "[[[0.88557545 0.68649777 0.95765894]\n",
      "  [0.75802464 0.67394256 0.3529453 ]\n",
      "  [0.28021301 0.10750878 0.84291621]]\n",
      "\n",
      " [[0.67015972 0.19780504 0.21674252]\n",
      "  [0.87086932 0.63519985 0.93498093]\n",
      "  [0.08281387 0.40821043 0.20731718]]\n",
      "\n",
      " [[0.77671393 0.59237365 0.29792127]\n",
      "  [0.67063528 0.94833585 0.59026789]\n",
      "  [0.09171436 0.53757756 0.6546771 ]]]\n"
     ]
    }
   ],
   "source": [
    "# 012. 创建3*3*3随机数矩阵\n",
    "# z = np.random.randn(3, 3, 3)\n",
    "z = np.random.random((3, 3, 3))\n",
    "print(z)"
   ]
  },
  {
   "cell_type": "code",
   "execution_count": 64,
   "metadata": {},
   "outputs": [
    {
     "name": "stdout",
     "output_type": "stream",
     "text": [
      "[[0.20612378 0.52306298 0.10344354 0.62994616 0.74532132 0.01653298\n",
      "  0.18394747 0.86161593 0.85913831 0.84597241]\n",
      " [0.49421315 0.44613164 0.92952183 0.45677561 0.77175131 0.41292667\n",
      "  0.11259697 0.38940996 0.39433471 0.42242741]\n",
      " [0.93808614 0.26352511 0.29417552 0.63091136 0.68307549 0.32600848\n",
      "  0.94765378 0.36893728 0.22772135 0.64627616]\n",
      " [0.94187348 0.75391564 0.6097022  0.8830448  0.55201463 0.65647114\n",
      "  0.67330132 0.48021927 0.20607205 0.99672788]\n",
      " [0.86132194 0.72217411 0.33683539 0.29688662 0.89475179 0.01936498\n",
      "  0.83943828 0.73970752 0.63267559 0.59709991]\n",
      " [0.16703719 0.48725798 0.83957448 0.37786021 0.23657772 0.36020693\n",
      "  0.56948241 0.19124082 0.95077664 0.15938667]\n",
      " [0.34833565 0.85326927 0.99694999 0.38174529 0.15568101 0.20155604\n",
      "  0.52047592 0.33959764 0.28730945 0.85115919]\n",
      " [0.79665095 0.2246879  0.1385434  0.81080899 0.18205349 0.98830637\n",
      "  0.75072248 0.53141695 0.48602058 0.20396668]\n",
      " [0.13022255 0.70301854 0.2345329  0.30113778 0.26952324 0.21594963\n",
      "  0.23494822 0.00683075 0.14958738 0.21033793]\n",
      " [0.18989909 0.44403508 0.9092886  0.65304831 0.33583231 0.80211882\n",
      "  0.25876115 0.3991141  0.77461449 0.69787454]]\n",
      "0.9969499853507198 0.006830750282138864\n"
     ]
    }
   ],
   "source": [
    "# 013. 创建10*10随机矩阵，寻找最大值和最小值\n",
    "z = np.random.random((10, 10))\n",
    "# 这种方式是错误的： print(max(z))\n",
    "print(z)\n",
    "print(z.max(), z.min())"
   ]
  },
  {
   "cell_type": "code",
   "execution_count": 65,
   "metadata": {},
   "outputs": [
    {
     "name": "stdout",
     "output_type": "stream",
     "text": [
      "0.5895578309618094\n",
      "0.5895578309618094\n"
     ]
    }
   ],
   "source": [
    "# 014. 创建随机矩阵30，寻找均值\n",
    "z = np.random.random(30)\n",
    "# 两种方式\n",
    "print(np.mean(z))\n",
    "print(z.mean())"
   ]
  },
  {
   "cell_type": "code",
   "execution_count": 81,
   "metadata": {},
   "outputs": [
    {
     "name": "stdout",
     "output_type": "stream",
     "text": [
      "[[1. 1. 1. 1. 1. 1. 1. 1. 1. 1.]\n",
      " [1. 0. 0. 0. 0. 0. 0. 0. 0. 1.]\n",
      " [1. 0. 0. 0. 0. 0. 0. 0. 0. 1.]\n",
      " [1. 0. 0. 0. 0. 0. 0. 0. 0. 1.]\n",
      " [1. 0. 0. 0. 0. 0. 0. 0. 0. 1.]\n",
      " [1. 0. 0. 0. 0. 0. 0. 0. 0. 1.]\n",
      " [1. 0. 0. 0. 0. 0. 0. 0. 0. 1.]\n",
      " [1. 0. 0. 0. 0. 0. 0. 0. 0. 1.]\n",
      " [1. 0. 0. 0. 0. 0. 0. 0. 0. 1.]\n",
      " [1. 1. 1. 1. 1. 1. 1. 1. 1. 1.]]\n",
      "[[1. 1. 1. 1. 1. 1. 1. 1. 1. 1.]\n",
      " [1. 0. 0. 0. 0. 0. 0. 0. 0. 1.]\n",
      " [1. 0. 0. 0. 0. 0. 0. 0. 0. 1.]\n",
      " [1. 0. 0. 0. 0. 0. 0. 0. 0. 1.]\n",
      " [1. 0. 0. 0. 0. 0. 0. 0. 0. 1.]\n",
      " [1. 0. 0. 0. 0. 0. 0. 0. 0. 1.]\n",
      " [1. 0. 0. 0. 0. 0. 0. 0. 0. 1.]\n",
      " [1. 0. 0. 0. 0. 0. 0. 0. 0. 1.]\n",
      " [1. 0. 0. 0. 0. 0. 0. 0. 0. 1.]\n",
      " [1. 1. 1. 1. 1. 1. 1. 1. 1. 1.]]\n"
     ]
    }
   ],
   "source": [
    "# 015. 创建一个边界为1，内部为0的二维数组\n",
    "z = np.zeros((10, 10))\n",
    "z[0,:] = 1\n",
    "z[-1,:] = 1\n",
    "z[:,0] = 1\n",
    "z[:,-1] = 1\n",
    "print(z)\n",
    "\n",
    "# 以下这种方式更好\n",
    "z = np.ones((10, 10))\n",
    "z[1:-1, 1:-1] = 0 # 注意是左开右闭，-1表示最后一行但不包括，当直接省略-1时候是包括的\n",
    "print(z)"
   ]
  },
  {
   "cell_type": "code",
   "execution_count": 4,
   "metadata": {},
   "outputs": [
    {
     "name": "stdout",
     "output_type": "stream",
     "text": [
      "[[1. 1. 1. 1. 1.]\n",
      " [1. 1. 1. 1. 1.]\n",
      " [1. 1. 1. 1. 1.]\n",
      " [1. 1. 1. 1. 1.]\n",
      " [1. 1. 1. 1. 1.]]\n",
      "[[0. 0. 0. 0. 0. 0. 0.]\n",
      " [0. 1. 1. 1. 1. 1. 0.]\n",
      " [0. 1. 1. 1. 1. 1. 0.]\n",
      " [0. 1. 1. 1. 1. 1. 0.]\n",
      " [0. 1. 1. 1. 1. 1. 0.]\n",
      " [0. 1. 1. 1. 1. 1. 0.]\n",
      " [0. 0. 0. 0. 0. 0. 0.]]\n"
     ]
    }
   ],
   "source": [
    "# 016. 如何在现有数组周围添加边框(填充为0)\n",
    "z = np.ones((5, 5))\n",
    "print(z)\n",
    "z = np.pad(z, pad_width = 1, mode = 'constant', constant_values = 0)\n",
    "print(z)"
   ]
  },
  {
   "cell_type": "code",
   "execution_count": 27,
   "metadata": {},
   "outputs": [
    {
     "name": "stdout",
     "output_type": "stream",
     "text": [
      "nan\n",
      "False\n",
      "False\n",
      "nan\n",
      "True\n",
      "False\n",
      "True\n"
     ]
    }
   ],
   "source": [
    "# 017. 打印输出\n",
    "print(0 * np.nan)\n",
    "print(np.nan == np.nan)\n",
    "print(np.inf > np.nan)\n",
    "print(np.nan - np.nan)\n",
    "print(np.nan in set([np.nan])) # Truw说明 np.nan 确实在 set([np,set])中\n",
    "print(0.3 == 3 * 0.1) # 永远不要用==去比较浮点数\n",
    "print(0.3 == round(3 * 0.1, 2)) # 要这样比较"
   ]
  },
  {
   "cell_type": "code",
   "execution_count": 30,
   "metadata": {},
   "outputs": [
    {
     "name": "stdout",
     "output_type": "stream",
     "text": [
      "[[0 0 0 0 0]\n",
      " [1 0 0 0 0]\n",
      " [0 2 0 0 0]\n",
      " [0 0 3 0 0]\n",
      " [0 0 0 4 0]]\n"
     ]
    }
   ],
   "source": [
    "# 018. 矩阵5*5，对角线下为1 2 3 4\n",
    "z  = np.diag(np.arange(1, 5), k = -1)\n",
    "print(z)"
   ]
  },
  {
   "cell_type": "code",
   "execution_count": 35,
   "metadata": {},
   "outputs": [
    {
     "name": "stdout",
     "output_type": "stream",
     "text": [
      "[[0. 1. 0. 1. 0. 1. 0. 1.]\n",
      " [1. 0. 1. 0. 1. 0. 1. 0.]\n",
      " [0. 1. 0. 1. 0. 1. 0. 1.]\n",
      " [1. 0. 1. 0. 1. 0. 1. 0.]\n",
      " [0. 1. 0. 1. 0. 1. 0. 1.]\n",
      " [1. 0. 1. 0. 1. 0. 1. 0.]\n",
      " [0. 1. 0. 1. 0. 1. 0. 1.]\n",
      " [1. 0. 1. 0. 1. 0. 1. 0.]]\n"
     ]
    }
   ],
   "source": [
    "# 019. 矩阵8*8，填充矩阵形式时\n",
    "z = np.zeros((8, 8))\n",
    "z[1::2, 0::2] = 1 # 对于切片的使用,省略就是最后一行\n",
    "z[0::2, 1::2] = 1\n",
    "print(z)"
   ]
  },
  {
   "cell_type": "code",
   "execution_count": 36,
   "metadata": {},
   "outputs": [
    {
     "name": "stdout",
     "output_type": "stream",
     "text": [
      "(1, 5, 3)\n"
     ]
    }
   ],
   "source": [
    "# 020. 矩阵6*7*8，第100个元素索引处的值\n",
    "print(np.unravel_index(99, (6, 7, 8)))"
   ]
  },
  {
   "cell_type": "code",
   "execution_count": 38,
   "metadata": {},
   "outputs": [
    {
     "name": "stdout",
     "output_type": "stream",
     "text": [
      "[[0 1 0 1 0 1 0 1]\n",
      " [1 0 1 0 1 0 1 0]\n",
      " [0 1 0 1 0 1 0 1]\n",
      " [1 0 1 0 1 0 1 0]\n",
      " [0 1 0 1 0 1 0 1]\n",
      " [1 0 1 0 1 0 1 0]\n",
      " [0 1 0 1 0 1 0 1]\n",
      " [1 0 1 0 1 0 1 0]]\n"
     ]
    }
   ],
   "source": [
    "# 021. 使用tile函数来创建8*8期盼\n",
    "z = np.tile(np.array([[0, 1], [1, 0]]), (4, 4)) # 将A矩阵按照B重复\n",
    "print(z)"
   ]
  },
  {
   "cell_type": "code",
   "execution_count": 42,
   "metadata": {},
   "outputs": [
    {
     "name": "stdout",
     "output_type": "stream",
     "text": [
      "[[-0.73293802 -1.16350111 -0.68292942 -0.66567597 -0.52388416]\n",
      " [-0.84902169 -0.4325723   0.64031504  1.63239613  1.88430633]\n",
      " [-1.27428885 -1.18892807  1.08161916  0.49520682 -1.43350259]\n",
      " [ 1.28936855  1.00160265 -1.26448205  0.83622275 -0.95080991]\n",
      " [ 0.40432314  0.88851626  0.42799415  0.88689767 -0.30623451]]\n"
     ]
    }
   ],
   "source": [
    "# 022. 将一个5*5随机矩阵归一化\n",
    "z = np.random.random((5, 5))\n",
    "# z = z/z.max()\n",
    "# 指的是方差和均值归一化\n",
    "z = (z - np.mean(z)) / np.std(z) # 这个是标准差\n",
    "print(z)"
   ]
  },
  {
   "cell_type": "code",
   "execution_count": 43,
   "metadata": {},
   "outputs": [
    {
     "name": "stdout",
     "output_type": "stream",
     "text": [
      "[('r', 'u1'), ('g', 'u1'), ('b', 'u1'), ('a', 'u1')]\n"
     ]
    }
   ],
   "source": [
    "# 023. 创建一个自定义dtype，将颜色描述为四个无符号字节（RGBA）\n",
    "z = np.dtype([('r', np.ubyte, 1),\n",
    "              ('g', np.ubyte, 1),\n",
    "              ('b', np.ubyte, 1),\n",
    "              ('a', np.ubyte, 1)])\n",
    "print(z)"
   ]
  },
  {
   "cell_type": "code",
   "execution_count": 46,
   "metadata": {},
   "outputs": [
    {
     "name": "stdout",
     "output_type": "stream",
     "text": [
      "[[0.43354405 0.19834419]\n",
      " [0.19919898 0.10419883]\n",
      " [0.69993707 0.26274176]\n",
      " [0.4218447  0.1494242 ]\n",
      " [0.3610132  0.1305477 ]]\n"
     ]
    }
   ],
   "source": [
    "# 024. 将5x3矩阵乘以3x2矩阵（实矩阵乘积\n",
    "z = np.random.random((5, 3)).dot(np.random.random((3, 2)))\n",
    "print(z)"
   ]
  },
  {
   "cell_type": "code",
   "execution_count": 53,
   "metadata": {},
   "outputs": [
    {
     "name": "stdout",
     "output_type": "stream",
     "text": [
      "[ 0  1  2  3 -4 -5 -6 -7  8  9]\n"
     ]
    }
   ],
   "source": [
    "# 025. 给定一维数组，否定所有在3到8之间的元素\n",
    "z = np.arange(10)\n",
    "z[(z > 3) & (z < 8) ] *= -1 # 这个操作太秀了\n",
    "print(z)"
   ]
  },
  {
   "cell_type": "code",
   "execution_count": 60,
   "metadata": {},
   "outputs": [
    {
     "name": "stdout",
     "output_type": "stream",
     "text": [
      "10\n",
      "10\n"
     ]
    }
   ],
   "source": [
    "# 026. 打印输出\n",
    "print(sum(range(5), -1)) # 先将 range求和，再跟 -1 求和\n",
    "#from numpy import *\n",
    "print(sum(range(5), -1)) # 加上中间那一句后，求和结果不同了 \n",
    "# print(sum(range(5), axis = -1))"
   ]
  },
  {
   "cell_type": "code",
   "execution_count": 15,
   "metadata": {},
   "outputs": [
    {
     "name": "stdout",
     "output_type": "stream",
     "text": [
      "1\n",
      "1\n",
      "False\n",
      "1j\n",
      "1.0\n",
      "False\n"
     ]
    }
   ],
   "source": [
    "# 027. 以下哪些表达是合法的\n",
    "z = 1\n",
    "print(z**z)\n",
    "print(2 << z >> 2)\n",
    "print(z <- z)\n",
    "print(1j*z)\n",
    "print(z/1/1)\n",
    "print(z<z>z)"
   ]
  },
  {
   "cell_type": "code",
   "execution_count": 19,
   "metadata": {},
   "outputs": [
    {
     "name": "stdout",
     "output_type": "stream",
     "text": [
      "nan\n",
      "0\n",
      "[-2.14748365e+09]\n"
     ]
    },
    {
     "name": "stderr",
     "output_type": "stream",
     "text": [
      "d:\\program_new\\python\\lib\\site-packages\\ipykernel_launcher.py:2: RuntimeWarning: invalid value encountered in true_divide\n",
      "  \n",
      "d:\\program_new\\python\\lib\\site-packages\\ipykernel_launcher.py:3: RuntimeWarning: divide by zero encountered in floor_divide\n",
      "  This is separate from the ipykernel package so we can avoid doing imports until\n"
     ]
    }
   ],
   "source": [
    "# 028. 接下来表达什么\n",
    "print(np.array(0) / np.array(0))\n",
    "print(np.array(0) // np.array(0))\n",
    "print(np.array([np.nan]).astype(int).astype(float))"
   ]
  },
  {
   "cell_type": "code",
   "execution_count": 21,
   "metadata": {},
   "outputs": [
    {
     "name": "stdout",
     "output_type": "stream",
     "text": [
      "[-9.95892804  2.46395059  5.34296987 -8.56674996  3.17466068  4.50696948\n",
      " -6.03541872 -9.54095109 -2.26408482  7.25400464]\n",
      "[-10.   3.   6.  -9.   4.   5.  -7. -10.  -3.   8.]\n"
     ]
    }
   ],
   "source": [
    "# 029. 进行远离零的取整\n",
    "z = np.random.uniform(-10, +10, 10) # 从 -10 到 +10 有 10 个数\n",
    "print(z)\n",
    "print(np.copysign(np.ceil(np.abs(z)), z)) # 先取绝对值，再进行天花板取整，然后再赋号"
   ]
  },
  {
   "cell_type": "code",
   "execution_count": 16,
   "metadata": {},
   "outputs": [
    {
     "name": "stdout",
     "output_type": "stream",
     "text": [
      "[6 0 0 2 9 9 4 4 5 9]\n",
      "[5 2 3 7 4 9 0 4 7 3]\n",
      "[0 2 4 5 9]\n"
     ]
    }
   ],
   "source": [
    "# 030. 寻找两个数组之间相同的值\n",
    "z1 = np.random.randint(0, 10, 10)\n",
    "z2 = np.random.randint(0, 10, 10)\n",
    "print(z1)\n",
    "print(z2)\n",
    "print(np.intersect1d(z1, z2)) # 这里是1，而不是l"
   ]
  },
  {
   "cell_type": "code",
   "execution_count": 28,
   "metadata": {},
   "outputs": [
    {
     "name": "stdout",
     "output_type": "stream",
     "text": [
      "[inf]\n"
     ]
    }
   ],
   "source": [
    "# 031. 忽略所有的np的警告\n",
    "\n",
    "# suicide mode on\n",
    "defaults = np.seterr(all = \"ignore\")\n",
    "z = np.ones(1) / 0\n",
    "\n",
    "print(z)\n",
    "\n",
    "#  back to sanity\n",
    "\n",
    "# 另外一种等价的方式是\n",
    "with np.errstate(divide = 'ignore'):\n",
    "    z = np.ones(1) / 0"
   ]
  },
  {
   "cell_type": "code",
   "execution_count": 29,
   "metadata": {},
   "outputs": [
    {
     "data": {
      "text/plain": [
       "False"
      ]
     },
     "execution_count": 29,
     "metadata": {},
     "output_type": "execute_result"
    }
   ],
   "source": [
    "# 032. 下面的表达式正确吗\n",
    "np.sqrt(-1) == np.emath.sqrt(-1) # 二者一个返回 nan，另一个返回 1j"
   ]
  },
  {
   "cell_type": "code",
   "execution_count": 33,
   "metadata": {},
   "outputs": [
    {
     "name": "stdout",
     "output_type": "stream",
     "text": [
      "2019-06-04 2019-06-05 2019-06-06\n"
     ]
    }
   ],
   "source": [
    "# 033. 得到昨天今天和明天的日期\n",
    "yesterday = np.datetime64('today', 'D') - np.timedelta64(1, 'D')\n",
    "today = np.datetime64('today', 'D')\n",
    "tomorrow = np.datetime64('today', 'D') + np.timedelta64(1, 'D')\n",
    "print(yesterday, today, tomorrow)"
   ]
  },
  {
   "cell_type": "code",
   "execution_count": 35,
   "metadata": {},
   "outputs": [
    {
     "name": "stdout",
     "output_type": "stream",
     "text": [
      "['2016-07-01' '2016-07-02' '2016-07-03' '2016-07-04' '2016-07-05'\n",
      " '2016-07-06' '2016-07-07' '2016-07-08' '2016-07-09' '2016-07-10'\n",
      " '2016-07-11' '2016-07-12' '2016-07-13' '2016-07-14' '2016-07-15'\n",
      " '2016-07-16' '2016-07-17' '2016-07-18' '2016-07-19' '2016-07-20'\n",
      " '2016-07-21' '2016-07-22' '2016-07-23' '2016-07-24' '2016-07-25'\n",
      " '2016-07-26' '2016-07-27' '2016-07-28' '2016-07-29' '2016-07-30'\n",
      " '2016-07-31']\n"
     ]
    }
   ],
   "source": [
    "# 34. 得到两个时间点之间所有的日期\n",
    "z = np.arange('2016-07', '2016-08', dtype='datetime64[D]')\n",
    "print(z)"
   ]
  },
  {
   "cell_type": "code",
   "execution_count": 13,
   "metadata": {},
   "outputs": [
    {
     "name": "stdout",
     "output_type": "stream",
     "text": [
      "[-1.5 -1.5 -1.5] [3. 3. 3.]\n"
     ]
    }
   ],
   "source": [
    "# 35. 如何计算（A+B）*(-A/2)不用复制\n",
    "A = np.ones(3)*1\n",
    "B = np.ones(3)*2\n",
    "C = np.ones(3)*3\n",
    "np.add(A, B, out = B)\n",
    "np.divide(A,2 , out = A)\n",
    "np.negative(A, out = A)\n",
    "np.multiply(A, B, out = A)\n",
    "print(A,B)"
   ]
  },
  {
   "cell_type": "code",
   "execution_count": 17,
   "metadata": {},
   "outputs": [
    {
     "name": "stdout",
     "output_type": "stream",
     "text": [
      "[2.80915162 8.23123092 6.84228932 0.3119505  8.35223812 1.75983088\n",
      " 0.32371248 6.44481786 9.89338693 0.46682242]\n",
      "[2. 8. 6. 0. 8. 1. 0. 6. 9. 0.]\n",
      "[2. 8. 6. 0. 8. 1. 0. 6. 9. 0.]\n",
      "[ 3.  9.  7.  1.  9.  2.  1.  7. 10.  1.]\n",
      "[2 8 6 0 8 1 0 6 9 0]\n",
      "[2. 8. 6. 0. 8. 1. 0. 6. 9. 0.]\n"
     ]
    }
   ],
   "source": [
    "# 36. 使用5种不同的方式来计算一个随机矩阵的整数部分\n",
    "z = np.random.uniform(0, 10, 10)\n",
    "print(z)\n",
    "\n",
    "print(z - z%1)\n",
    "print(np.floor(z))\n",
    "print(np.ceil(z))\n",
    "print(z.astype(int))\n",
    "print(np.trunc(z)) # 这个暂时不知道是什么意思，存疑吧"
   ]
  },
  {
   "cell_type": "code",
   "execution_count": 23,
   "metadata": {},
   "outputs": [
    {
     "name": "stdout",
     "output_type": "stream",
     "text": [
      "[[0. 1. 2. 3. 4.]\n",
      " [0. 1. 2. 3. 4.]\n",
      " [0. 1. 2. 3. 4.]\n",
      " [0. 1. 2. 3. 4.]\n",
      " [0. 1. 2. 3. 4.]]\n",
      "[[0. 1. 2. 3. 4.]\n",
      " [0. 1. 2. 3. 4.]\n",
      " [0. 1. 2. 3. 4.]\n",
      " [0. 1. 2. 3. 4.]\n",
      " [0. 1. 2. 3. 4.]]\n"
     ]
    }
   ],
   "source": [
    "# 37. 创建一个5*5的矩阵，其中行数值从0至4(指每一行都是从0到4)\n",
    "z = np.ones((5,1))*np.arange(0,5)\n",
    "print(z)\n",
    "\n",
    "z2 = np.zeros((5, 5))\n",
    "z2 += np.arange(5)\n",
    "print(z2)"
   ]
  },
  {
   "cell_type": "code",
   "execution_count": 24,
   "metadata": {},
   "outputs": [
    {
     "name": "stdout",
     "output_type": "stream",
     "text": [
      "[0. 1. 2. 3. 4. 5. 6. 7. 8. 9.]\n"
     ]
    }
   ],
   "source": [
    "# 38. 创建一个函数来生成10个整数，并用其来创建矩阵\n",
    "def generator():\n",
    "    for x in range(10):\n",
    "        yield x                          # 好吧这个有点麻烦，暂时就不管了\n",
    "z = np.fromiter(generator(), dtype = float, count = -1)\n",
    "print(z)"
   ]
  },
  {
   "cell_type": "code",
   "execution_count": 25,
   "metadata": {},
   "outputs": [
    {
     "name": "stdout",
     "output_type": "stream",
     "text": [
      "[0.09090909 0.18181818 0.27272727 0.36363636 0.45454545 0.54545455\n",
      " 0.63636364 0.72727273 0.81818182 0.90909091]\n"
     ]
    }
   ],
   "source": [
    "# 39. 创建一个10维的向量，它的值从0到1，（不包括0和1）\n",
    "z = np.linspace(0, 1, 11, endpoint = False)[1:]\n",
    "print(z)\n",
    "# endpoint 控制不会取到1，后边的[1:] 将首位0给排除除去"
   ]
  },
  {
   "cell_type": "code",
   "execution_count": 27,
   "metadata": {},
   "outputs": [
    {
     "name": "stdout",
     "output_type": "stream",
     "text": [
      "[0.1429935  0.19956969 0.49310394 0.56329461 0.67487842 0.89699164\n",
      " 0.91679018 0.95765188 0.97364357 0.99311313]\n"
     ]
    }
   ],
   "source": [
    "# 40. 创建一个10维的随机数组并且排序\n",
    "z = np.random.random(10)\n",
    "z.sort()\n",
    "print(z)"
   ]
  },
  {
   "cell_type": "code",
   "execution_count": 55,
   "metadata": {},
   "outputs": [
    {
     "name": "stdout",
     "output_type": "stream",
     "text": [
      "45\n",
      "[45]\n"
     ]
    }
   ],
   "source": [
    "# 41. 对一个小数组快速求和\n",
    "z = np.arange(10)\n",
    "print(np.add.reduce(z))\n",
    "print(z.dot(np.ones((10, 1), dtype = int)))"
   ]
  },
  {
   "cell_type": "code",
   "execution_count": 56,
   "metadata": {},
   "outputs": [
    {
     "name": "stdout",
     "output_type": "stream",
     "text": [
      "False\n",
      "False\n"
     ]
    }
   ],
   "source": [
    "# 42. 检查两个随机矩阵是否相等\n",
    "A = np.random.randint(0,2,5)\n",
    "B = np.random.randint(0,2,5)\n",
    "\n",
    "equal = np.allclose(A, B)\n",
    "print(equal)\n",
    "\n",
    "equal = np.array_equal(A, B)\n",
    "print(equal)"
   ]
  },
  {
   "cell_type": "code",
   "execution_count": 59,
   "metadata": {},
   "outputs": [
    {
     "ename": "ValueError",
     "evalue": "assignment destination is read-only",
     "output_type": "error",
     "traceback": [
      "\u001b[1;31m---------------------------------------------------------------------------\u001b[0m",
      "\u001b[1;31mValueError\u001b[0m                                Traceback (most recent call last)",
      "\u001b[1;32m<ipython-input-59-58768252e54a>\u001b[0m in \u001b[0;36m<module>\u001b[1;34m\u001b[0m\n\u001b[0;32m      2\u001b[0m \u001b[0mz\u001b[0m \u001b[1;33m=\u001b[0m \u001b[0mnp\u001b[0m\u001b[1;33m.\u001b[0m\u001b[0mzeros\u001b[0m\u001b[1;33m(\u001b[0m\u001b[1;36m10\u001b[0m\u001b[1;33m)\u001b[0m\u001b[1;33m\u001b[0m\u001b[1;33m\u001b[0m\u001b[0m\n\u001b[0;32m      3\u001b[0m \u001b[0mz\u001b[0m\u001b[1;33m.\u001b[0m\u001b[0mflags\u001b[0m\u001b[1;33m.\u001b[0m\u001b[0mwriteable\u001b[0m \u001b[1;33m=\u001b[0m \u001b[1;32mFalse\u001b[0m\u001b[1;33m\u001b[0m\u001b[1;33m\u001b[0m\u001b[0m\n\u001b[1;32m----> 4\u001b[1;33m \u001b[0mz\u001b[0m\u001b[1;33m[\u001b[0m\u001b[1;36m0\u001b[0m\u001b[1;33m]\u001b[0m \u001b[1;33m=\u001b[0m \u001b[1;36m1\u001b[0m\u001b[1;33m\u001b[0m\u001b[1;33m\u001b[0m\u001b[0m\n\u001b[0m",
      "\u001b[1;31mValueError\u001b[0m: assignment destination is read-only"
     ]
    }
   ],
   "source": [
    "# 43. 使数组不可变，只读\n",
    "z = np.zeros(10)\n",
    "z.flags.writeable = False\n",
    "z[0] = 1"
   ]
  },
  {
   "cell_type": "code",
   "execution_count": 62,
   "metadata": {},
   "outputs": [
    {
     "name": "stdout",
     "output_type": "stream",
     "text": [
      "[0.39613239 0.66468174 1.00392026 1.0126403  0.81942167 0.69493968\n",
      " 0.95995072 0.94743883 1.1102572  1.0456906 ]\n",
      "[1.29875655 0.48069554 0.20000819 1.19702683 1.52451954 1.18159735\n",
      " 1.31659614 1.53063452 0.66629809 1.20579518]\n"
     ]
    }
   ],
   "source": [
    "# 44. 10*2的数组存储着笛卡尔坐标，转换为极坐标\n",
    "z = np.random.random((10,2))\n",
    "x,y = z[:,0],z[:,1]\n",
    "r = np.sqrt(x**2+y**2)\n",
    "t = np.arctan2(y,x)\n",
    "print(r)\n",
    "print(t)"
   ]
  },
  {
   "cell_type": "code",
   "execution_count": 63,
   "metadata": {},
   "outputs": [
    {
     "name": "stdout",
     "output_type": "stream",
     "text": [
      "[0.59458973 0.17666947 0.         0.00624669 0.37093399 0.11587892\n",
      " 0.49772159 0.42408864 0.75416001 0.66503468]\n"
     ]
    }
   ],
   "source": [
    "# 45. 创建一个10维的向量，将最大值替换为0\n",
    "z = np.random.random(10)\n",
    "z[z.argmax()] = 0\n",
    "print(z)"
   ]
  },
  {
   "cell_type": "code",
   "execution_count": 64,
   "metadata": {},
   "outputs": [
    {
     "name": "stdout",
     "output_type": "stream",
     "text": [
      "[[(0.  , 0.  ) (0.25, 0.  ) (0.5 , 0.  ) (0.75, 0.  ) (1.  , 0.  )]\n",
      " [(0.  , 0.25) (0.25, 0.25) (0.5 , 0.25) (0.75, 0.25) (1.  , 0.25)]\n",
      " [(0.  , 0.5 ) (0.25, 0.5 ) (0.5 , 0.5 ) (0.75, 0.5 ) (1.  , 0.5 )]\n",
      " [(0.  , 0.75) (0.25, 0.75) (0.5 , 0.75) (0.75, 0.75) (1.  , 0.75)]\n",
      " [(0.  , 1.  ) (0.25, 1.  ) (0.5 , 1.  ) (0.75, 1.  ) (1.  , 1.  )]]\n"
     ]
    }
   ],
   "source": [
    "# 46. 创建一个结构数组，具有x和y坐标，覆盖0101区域\n",
    "z = np.zeros((5, 5), [('x', float), ('y', float)])\n",
    "z['x'], z['y'] = np.meshgrid(np.linspace(0,1,5), np.linspace(0,1,5))\n",
    "print(z)"
   ]
  },
  {
   "cell_type": "code",
   "execution_count": 65,
   "metadata": {},
   "outputs": [
    {
     "name": "stdout",
     "output_type": "stream",
     "text": [
      "3638.1636371179666\n"
     ]
    }
   ],
   "source": [
    "# 47. 给定两个数组，组合为柯西矩阵\n",
    "x = np.arange(8)\n",
    "y = x + 0.5\n",
    "c = 1.0 / np.subtract.outer(x, y)\n",
    "print(np.linalg.det(c))"
   ]
  },
  {
   "cell_type": "code",
   "execution_count": null,
   "metadata": {},
   "outputs": [],
   "source": []
  },
  {
   "cell_type": "code",
   "execution_count": null,
   "metadata": {},
   "outputs": [],
   "source": []
  },
  {
   "cell_type": "code",
   "execution_count": null,
   "metadata": {},
   "outputs": [],
   "source": []
  },
  {
   "cell_type": "code",
   "execution_count": null,
   "metadata": {},
   "outputs": [],
   "source": []
  },
  {
   "cell_type": "code",
   "execution_count": null,
   "metadata": {},
   "outputs": [],
   "source": []
  },
  {
   "cell_type": "code",
   "execution_count": null,
   "metadata": {},
   "outputs": [],
   "source": []
  }
 ],
 "metadata": {
  "kernelspec": {
   "display_name": "Python 3",
   "language": "python",
   "name": "python3"
  },
  "language_info": {
   "codemirror_mode": {
    "name": "ipython",
    "version": 3
   },
   "file_extension": ".py",
   "mimetype": "text/x-python",
   "name": "python",
   "nbconvert_exporter": "python",
   "pygments_lexer": "ipython3",
   "version": "3.7.1"
  }
 },
 "nbformat": 4,
 "nbformat_minor": 2
}
