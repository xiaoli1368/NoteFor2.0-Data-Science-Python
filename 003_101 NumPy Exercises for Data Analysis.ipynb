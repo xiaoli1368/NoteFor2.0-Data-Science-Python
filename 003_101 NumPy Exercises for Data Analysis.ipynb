{
 "cells": [
  {
   "cell_type": "markdown",
   "metadata": {},
   "source": [
    "# 101 NumPy Exercises for Data Analysis"
   ]
  },
  {
   "cell_type": "markdown",
   "metadata": {},
   "source": [
    "## 说明\n",
    "\n",
    "该文档是对[《101 NumPy Exercises for Data Analysis (Python)》](https://www.machinelearningplus.com/python/101-numpy-exercises-python/)的学习笔记。现文档为 [NumPy数据分析练习](https://www.numpy.org.cn/article/advanced/numpy_exercises_for_data_analysis.html)（由[NumPy中文文档](https://www.numpy.org.cn/)翻译）。"
   ]
  },
  {
   "cell_type": "markdown",
   "metadata": {},
   "source": [
    "#### **1. 导入numpy作为np，并查看版本**\n",
    "\n",
    "- 难度等级：L1\n",
    "- 问题：将numpy导入为 np 并打印版本号"
   ]
  },
  {
   "cell_type": "code",
   "execution_count": 2,
   "metadata": {},
   "outputs": [
    {
     "name": "stdout",
     "output_type": "stream",
     "text": [
      "1.15.4\n"
     ]
    }
   ],
   "source": [
    "import numpy as np\n",
    "print(np.__version__)"
   ]
  },
  {
   "cell_type": "markdown",
   "metadata": {},
   "source": [
    "#### **2. 如何创建一维数组？**\n",
    "\n",
    "- 难度等级：L1\n",
    "- 问题：创建从0到9的一维数字数组"
   ]
  },
  {
   "cell_type": "code",
   "execution_count": 9,
   "metadata": {},
   "outputs": [
    {
     "name": "stdout",
     "output_type": "stream",
     "text": [
      "[0 1 2 3 4 5 6 7 8 9]\n"
     ]
    }
   ],
   "source": [
    "# 以下省略 import numpy as np\n",
    "a = np.arange(10)\n",
    "print(a)"
   ]
  },
  {
   "cell_type": "markdown",
   "metadata": {},
   "source": [
    "#### **3. 如何创建一个布尔数组？**\n",
    "\n",
    "- 难度等级：L1\n",
    "- 问题：创建一个numpy数组元素值全为True（真）的数组"
   ]
  },
  {
   "cell_type": "code",
   "execution_count": 15,
   "metadata": {},
   "outputs": [
    {
     "name": "stdout",
     "output_type": "stream",
     "text": [
      "[[ True  True  True]\n",
      " [ True  True  True]\n",
      " [ True  True  True]]\n"
     ]
    }
   ],
   "source": [
    "a = np.full((3, 3), True, dtype=bool)\n",
    "print(a)\n",
    "# print(help(np.full))"
   ]
  },
  {
   "cell_type": "markdown",
   "metadata": {},
   "source": [
    "#### **4. 如何从一维数组中提取满足指定条件的元素？**\n",
    "\n",
    "- 难度等级：L1\n",
    "- 问题：从a中提取所有的奇数"
   ]
  },
  {
   "cell_type": "code",
   "execution_count": 13,
   "metadata": {},
   "outputs": [
    {
     "name": "stdout",
     "output_type": "stream",
     "text": [
      "[1, 3, 5, 7, 9]\n",
      "[1 3 5 7 9]\n"
     ]
    }
   ],
   "source": [
    "# 给定\n",
    "a = np.array([0, 1, 2, 3, 4, 5, 6, 7, 8, 9])\n",
    "\n",
    "# 第一种方式（适用于列表和数组）\n",
    "b = [i for i in a if i % 2 == 1]\n",
    "print(b)\n",
    "\n",
    "# 第二种方式（适用于数组）\n",
    "c = a[a % 2 == 1]\n",
    "print(c)"
   ]
  },
  {
   "cell_type": "markdown",
   "metadata": {},
   "source": [
    "#### **5. 如何用numpy数组中的另一个值替换满足条件的元素项？**\n",
    "\n",
    "- 难度等级：L1\n",
    "- 问题：将a中的所有奇数替换为-1"
   ]
  },
  {
   "cell_type": "code",
   "execution_count": 17,
   "metadata": {},
   "outputs": [
    {
     "name": "stdout",
     "output_type": "stream",
     "text": [
      "[ 0 -1  2 -1  4 -1  6 -1  8 -1]\n",
      "[0, -1, 2, -1, 4, -1, 6, -1, 8, -1]\n"
     ]
    }
   ],
   "source": [
    "# 给定\n",
    "a = np.array([0, 1, 2, 3, 4, 5, 6, 7, 8, 9])\n",
    "\n",
    "# 第一种方式\n",
    "b = a\n",
    "b[b % 2 == 1] = -1\n",
    "print(b)\n",
    "\n",
    "# 第二种方式\n",
    "c = []\n",
    "for i in a:\n",
    "    if i % 2 == 1:\n",
    "        c.append(-1)\n",
    "    else:\n",
    "        c.append(i)\n",
    "print(c)"
   ]
  },
  {
   "cell_type": "markdown",
   "metadata": {},
   "source": [
    "#### **6. 如何在不影响原始数组的情况下替换满足条件的元素项？**\n",
    "\n",
    "- 难度等级：L2\n",
    "- 问题：将a中的所有奇数替换为-1，而不改变a"
   ]
  },
  {
   "cell_type": "code",
   "execution_count": 18,
   "metadata": {},
   "outputs": [
    {
     "name": "stdout",
     "output_type": "stream",
     "text": [
      "[0 1 2 3 4 5 6 7 8 9]\n",
      "[ 0 -1  2 -1  4 -1  6 -1  8 -1]\n"
     ]
    }
   ],
   "source": [
    "# 给定\n",
    "a = np.arange(10)\n",
    "b = np.where(a % 2 == 1, -1, a)\n",
    "\n",
    "print(a)\n",
    "print(b)"
   ]
  },
  {
   "cell_type": "markdown",
   "metadata": {},
   "source": [
    "#### **7. 如何改变数组的形状？**\n",
    "\n",
    "- 难度等级：L1\n",
    "- 问题：将一维数组转换为2行的2维数组"
   ]
  },
  {
   "cell_type": "code",
   "execution_count": 22,
   "metadata": {},
   "outputs": [
    {
     "name": "stdout",
     "output_type": "stream",
     "text": [
      "[0 1 2 3 4 5 6 7 8 9]\n",
      "[[0 1 2 3 4]\n",
      " [5 6 7 8 9]]\n",
      "[[0 1 2 3 4]\n",
      " [5 6 7 8 9]]\n",
      "[[0 1 2 3 4]\n",
      " [5 6 7 8 9]]\n"
     ]
    }
   ],
   "source": [
    "# 给定\n",
    "a = np.arange(10)\n",
    "print(a)\n",
    "\n",
    "b = a.reshape(2, 5)\n",
    "print(b)\n",
    "\n",
    "c = a.reshape(2, -1) # -1 表示自动填充\n",
    "print(c)\n",
    "\n",
    "d = a\n",
    "d.shape = 2, 5\n",
    "print(d)"
   ]
  },
  {
   "cell_type": "markdown",
   "metadata": {},
   "source": [
    "#### **8. 如何垂直叠加两个数组？**\n",
    "\n",
    "- 难度等级：L2\n",
    "- 问题：垂直堆叠数组a和数组b"
   ]
  },
  {
   "cell_type": "code",
   "execution_count": 24,
   "metadata": {},
   "outputs": [
    {
     "name": "stdout",
     "output_type": "stream",
     "text": [
      "[[0 1 2 3 4]\n",
      " [5 6 7 8 9]]\n",
      "[[1 1 1 1 1]\n",
      " [1 1 1 1 1]]\n",
      "[[0 1 2 3 4]\n",
      " [5 6 7 8 9]\n",
      " [1 1 1 1 1]\n",
      " [1 1 1 1 1]]\n",
      "[[0 1 2 3 4]\n",
      " [5 6 7 8 9]\n",
      " [1 1 1 1 1]\n",
      " [1 1 1 1 1]]\n",
      "[[0 1 2 3 4]\n",
      " [5 6 7 8 9]\n",
      " [1 1 1 1 1]\n",
      " [1 1 1 1 1]]\n"
     ]
    }
   ],
   "source": [
    "a = np.arange(10).reshape(2, -1)\n",
    "b = np.repeat(1, 10).reshape(2, -1)\n",
    "\n",
    "# 方法一\n",
    "add1 = np.concatenate([a, b], axis=0)\n",
    "\n",
    "# 方法二\n",
    "add2 = np.vstack([a, b])\n",
    "\n",
    "# 方法三\n",
    "add3 = np.r_[a, b]\n",
    "\n",
    "print(a)\n",
    "print(b)\n",
    "print(add1)\n",
    "print(add2)\n",
    "print(add3)"
   ]
  },
  {
   "cell_type": "markdown",
   "metadata": {},
   "source": [
    "#### **9. 如何水平叠加两个数组？**\n",
    "\n",
    "- 难度等级：L2\n",
    "- 问题：水平堆叠数组a和数组b"
   ]
  },
  {
   "cell_type": "code",
   "execution_count": 25,
   "metadata": {},
   "outputs": [
    {
     "name": "stdout",
     "output_type": "stream",
     "text": [
      "[[0 1 2 3 4]\n",
      " [5 6 7 8 9]]\n",
      "[[1 1 1 1 1]\n",
      " [1 1 1 1 1]]\n",
      "[[0 1 2 3 4 1 1 1 1 1]\n",
      " [5 6 7 8 9 1 1 1 1 1]]\n",
      "[[0 1 2 3 4 1 1 1 1 1]\n",
      " [5 6 7 8 9 1 1 1 1 1]]\n",
      "[[0 1 2 3 4 1 1 1 1 1]\n",
      " [5 6 7 8 9 1 1 1 1 1]]\n"
     ]
    }
   ],
   "source": [
    "a = np.arange(10).reshape(2, -1)\n",
    "b = np.repeat(1, 10).reshape(2, -1)\n",
    "\n",
    "# 方法一\n",
    "add1 = np.concatenate([a, b], axis=1)\n",
    "\n",
    "# 方法二\n",
    "add2 = np.hstack([a, b])\n",
    "\n",
    "# 方法三\n",
    "add3 = np.c_[a, b]\n",
    "\n",
    "print(a)\n",
    "print(b)\n",
    "print(add1)\n",
    "print(add2)\n",
    "print(add3)"
   ]
  },
  {
   "cell_type": "markdown",
   "metadata": {},
   "source": [
    "#### **10. 如何在无硬编码的情况下生成numpy中的自定义序列？**\n",
    "\n",
    "- 难度等级：L2\n",
    "- 问题：创建以下模式而不使用硬编码。只使用numpy函数和下面的输入数组a。\n",
    "- 给定：\n",
    "    ```python\n",
    "    a = np.array([1,2,3])\n",
    "    ```\n",
    "- 期望：\n",
    "    ```python\n",
    "    array([1, 1, 1, 2, 2, 2, 3, 3, 3, 1, 2, 3, 1, 2, 3, 1, 2, 3])\n",
    "    ```"
   ]
  },
  {
   "cell_type": "code",
   "execution_count": 28,
   "metadata": {},
   "outputs": [
    {
     "name": "stdout",
     "output_type": "stream",
     "text": [
      "[1 2 3]\n",
      "[1 1 1 2 2 2 3 3 3 1 2 3 1 2 3 1 2 3]\n"
     ]
    }
   ],
   "source": [
    "a = np.array([1,2,3])\n",
    "print(a)\n",
    "\n",
    "b = np.r_[np.repeat(a, 3), np.tile(a, 3)]\n",
    "print(b)"
   ]
  },
  {
   "cell_type": "markdown",
   "metadata": {},
   "source": [
    "#### **11. 如何获取两个numpy数组之间的公共项？**\n",
    "\n",
    "- 难度等级：L2\n",
    "- 问题：获取数组a和数组b之间的公共项"
   ]
  },
  {
   "cell_type": "code",
   "execution_count": 46,
   "metadata": {},
   "outputs": [
    {
     "name": "stdout",
     "output_type": "stream",
     "text": [
      "[2, 4]\n",
      "<class 'list'>\n",
      "[2 4]\n"
     ]
    }
   ],
   "source": [
    "a = np.array([1,2,3,2,3,4,3,4,5,6])\n",
    "b = np.array([7,2,10,2,7,4,9,4,9,8])\n",
    "\n",
    "# 第一种列表的方式\n",
    "c = []\n",
    "for i in a:\n",
    "    if (i in b) and (i not in c): # 注意要加上 not in c\n",
    "        c.append(i)\n",
    "print(c)\n",
    "print(type(c))\n",
    "\n",
    "# 第二种数组的方式\n",
    "d = np.intersect1d(a, b) # 注意这里是1而不是l\n",
    "print(d)"
   ]
  },
  {
   "cell_type": "markdown",
   "metadata": {},
   "source": [
    "#### **12. 如何从一个数组中删除存在于另一个数组中的项？**\n",
    "\n",
    "- 难度等级：L2\n",
    "- 问题：从数组a中删除数组b中的所有项"
   ]
  },
  {
   "cell_type": "code",
   "execution_count": 48,
   "metadata": {},
   "outputs": [
    {
     "name": "stdout",
     "output_type": "stream",
     "text": [
      "[1, 2, 3, 4]\n",
      "<class 'list'>\n",
      "[1 2 3 4]\n",
      "int32\n"
     ]
    }
   ],
   "source": [
    "a = np.array([1,2,3,4,5])\n",
    "b = np.array([5,6,7,8,9])\n",
    "\n",
    "# 第一种列表的方式\n",
    "c = []\n",
    "for i in a:\n",
    "    if i not in b:\n",
    "        c.append(i)\n",
    "print(c)\n",
    "print(type(c))\n",
    "\n",
    "# 第二种数组的方式\n",
    "d = np.setdiff1d(a, b)\n",
    "print(d)\n",
    "print(d.dtype)"
   ]
  },
  {
   "cell_type": "markdown",
   "metadata": {},
   "source": [
    "#### **13. 如何得到两个数组元素匹配的位置？**\n",
    "\n",
    "- 难度等级：L2\n",
    "- 问题：获取a和b元素匹配（相等）的位置"
   ]
  },
  {
   "cell_type": "code",
   "execution_count": 56,
   "metadata": {},
   "outputs": [
    {
     "name": "stdout",
     "output_type": "stream",
     "text": [
      "[1, 3, 5, 7]\n",
      "<class 'list'>\n",
      "(array([1, 3, 5, 7], dtype=int64),)\n",
      "<class 'tuple'>\n"
     ]
    }
   ],
   "source": [
    "a = np.array([1,2,3,2,3,4,3,4,5,6])\n",
    "b = np.array([7,2,10,2,7,4,9,4,9,8])\n",
    "\n",
    "# 第一种是列表的方式\n",
    "c = []\n",
    "for i in range(len(a)):\n",
    "    if a[i] == b[i]:\n",
    "        c.append(i)\n",
    "print(c)\n",
    "print(type(c))\n",
    "\n",
    "# 第二种是数组的方式\n",
    "d = np.where(a == b)\n",
    "print(d)\n",
    "print(type(d))\n",
    "# 注意这里使用 d.dytpe 会报错"
   ]
  },
  {
   "cell_type": "markdown",
   "metadata": {},
   "source": [
    "#### **14. 如何从numpy数组中提取给定范围内的所有数字？**\n",
    "\n",
    "- 难度等级：L2\n",
    "- 问题：获取5到10之间的所有项目"
   ]
  },
  {
   "cell_type": "code",
   "execution_count": 67,
   "metadata": {},
   "outputs": [
    {
     "name": "stdout",
     "output_type": "stream",
     "text": [
      "[6, 9, 10]\n",
      "<class 'list'>\n",
      "(array([1, 3, 4], dtype=int64),)\n",
      "[ 6  9 10]\n",
      "(array([1, 3, 4], dtype=int64),)\n",
      "[ 6  9 10]\n",
      "[ 6  9 10]\n"
     ]
    }
   ],
   "source": [
    "a = np.array([2, 6, 1, 9, 10, 3, 27])\n",
    "\n",
    "# 第一种数组的方式\n",
    "c = []\n",
    "for i in a:\n",
    "    if i <= 10 and i >= 5:\n",
    "        c.append(i)\n",
    "print(c)\n",
    "print(type(c))\n",
    "\n",
    "# 第二种数组的方式\n",
    "# 方法一\n",
    "index = np.where((a >= 5) & (a <= 10)) # 注意这里不能用 and 会报错\n",
    "print(index)\n",
    "print(a[index])\n",
    "\n",
    "# 方法二\n",
    "index2 = np.where(np.logical_and(a >= 5, a <= 10))\n",
    "print(index2)\n",
    "print(a[index2])\n",
    "\n",
    "# 方法三\n",
    "d = a[(a <= 10) & (a >= 5)]\n",
    "print(d)"
   ]
  },
  {
   "cell_type": "markdown",
   "metadata": {},
   "source": [
    "#### **15. 如何创建一个python函数来处理scalars并在numpy数组上工作？**\n",
    "\n",
    "- 难度等级：L2\n",
    "- 问题：转换适用于两个标量的函数maxx，以处理两个数组\n",
    "- 给定：\n",
    "    ```python\n",
    "    def maxx(x, y):\n",
    "        \"\"\"Get the maximum of two items\"\"\"\n",
    "        if x >= y:\n",
    "            return x\n",
    "        else:\n",
    "            return y\n",
    "\n",
    "    maxx(1, 5)\n",
    "    ```\n",
    "- 期望：\n",
    "    ```python\n",
    "    a = np.array([5, 7, 9, 8, 6, 4, 5])\n",
    "    b = np.array([6, 3, 4, 8, 9, 7, 1])\n",
    "    pair_max(a, b)\n",
    "    # > array([ 6.,  7.,  9.,  8.,  9.,  7.,  5.])\n",
    "```"
   ]
  },
  {
   "cell_type": "code",
   "execution_count": 78,
   "metadata": {},
   "outputs": [
    {
     "name": "stdout",
     "output_type": "stream",
     "text": [
      "[6, 7, 9, 8, 9, 7, 5]\n",
      "<class 'list'>\n"
     ]
    },
    {
     "data": {
      "text/plain": [
       "array([6., 7., 9., 8., 9., 7., 5.])"
      ]
     },
     "execution_count": 78,
     "metadata": {},
     "output_type": "execute_result"
    }
   ],
   "source": [
    "# 其实就是取对应位置的最大值，不过结果好像是小数？\n",
    "a = np.array([5, 7, 9, 8, 6, 4, 5])\n",
    "b = np.array([6, 3, 4, 8, 9, 7, 1])\n",
    "\n",
    "# 第一种列表的方式\n",
    "c = []\n",
    "for i in range(len(a)):\n",
    "    if a[i] > b[i]:\n",
    "        c.append(a[i])\n",
    "    else:\n",
    "        c.append(b[i])\n",
    "print(c)\n",
    "print(type(c))\n",
    "\n",
    "# 第二种数组的方式\n",
    "def maxx(x, y):\n",
    "    '''Get the maximum of two items'''\n",
    "    if x >= y:\n",
    "        return x\n",
    "    else:\n",
    "        return y\n",
    "\n",
    "# 猜测这个函数是对两个数组之间的元素进行操作，因为传入的变量是个函数\n",
    "pair_max = np.vectorize(maxx, otypes=[float])\n",
    "pair_max(a, b)"
   ]
  },
  {
   "cell_type": "markdown",
   "metadata": {},
   "source": [
    "#### **16. 如何交换二维numpy数组中的两列？**\n",
    "\n",
    "- 难度等级：L2\n",
    "- 问题：在数组a中交换列1和2"
   ]
  },
  {
   "cell_type": "code",
   "execution_count": 79,
   "metadata": {},
   "outputs": [
    {
     "name": "stdout",
     "output_type": "stream",
     "text": [
      "[[0 1 2]\n",
      " [3 4 5]\n",
      " [6 7 8]]\n",
      "[[1 0 2]\n",
      " [4 3 5]\n",
      " [7 6 8]]\n"
     ]
    }
   ],
   "source": [
    "a = np.arange(9).reshape(3, 3)\n",
    "print(a)\n",
    "\n",
    "b = a[:, [1, 0, 2]] # 这个操作太秀了\n",
    "print(b)"
   ]
  },
  {
   "cell_type": "markdown",
   "metadata": {},
   "source": [
    "#### **17. 如何交换二维numpy数组中的两行？**\n",
    "\n",
    "- 难度等级：L2\n",
    "- 问题：在数组a中交换行1和2"
   ]
  },
  {
   "cell_type": "code",
   "execution_count": 80,
   "metadata": {},
   "outputs": [
    {
     "name": "stdout",
     "output_type": "stream",
     "text": [
      "[[0 1 2]\n",
      " [3 4 5]\n",
      " [6 7 8]]\n",
      "[[3 4 5]\n",
      " [0 1 2]\n",
      " [6 7 8]]\n"
     ]
    }
   ],
   "source": [
    "a = np.arange(9).reshape(3, 3)\n",
    "print(a)\n",
    "\n",
    "b = a[[1, 0, 2], :]\n",
    "print(b)"
   ]
  },
  {
   "cell_type": "markdown",
   "metadata": {},
   "source": [
    "#### **18. 如何反转二维数组的行？**\n",
    "\n",
    "- 难度等级：L2\n",
    "- 问题：反转二维数组a的行"
   ]
  },
  {
   "cell_type": "code",
   "execution_count": 85,
   "metadata": {},
   "outputs": [
    {
     "name": "stdout",
     "output_type": "stream",
     "text": [
      "[[0 1 2]\n",
      " [3 4 5]\n",
      " [6 7 8]]\n",
      "[[2 1 0]\n",
      " [5 4 3]\n",
      " [8 7 6]]\n",
      "[[2 1 0]\n",
      " [5 4 3]\n",
      " [8 7 6]]\n"
     ]
    }
   ],
   "source": [
    "a = np.arange(9).reshape(3, 3)\n",
    "print(a)\n",
    "\n",
    "# 其实可以利用索引办到\n",
    "b = a[:, [2, 1, 0]]\n",
    "print(b)\n",
    "\n",
    "# 也可以使用这种方式\n",
    "c = a[:, ::-1]\n",
    "print(c)"
   ]
  },
  {
   "cell_type": "markdown",
   "metadata": {},
   "source": [
    "#### **19. 如何反转二维数组的列？**\n",
    "\n",
    "- 难度等级：L2\n",
    "- 问题：反转二维数组a的列"
   ]
  },
  {
   "cell_type": "code",
   "execution_count": 86,
   "metadata": {},
   "outputs": [
    {
     "name": "stdout",
     "output_type": "stream",
     "text": [
      "[[0 1 2]\n",
      " [3 4 5]\n",
      " [6 7 8]]\n",
      "[[6 7 8]\n",
      " [3 4 5]\n",
      " [0 1 2]]\n",
      "[[6 7 8]\n",
      " [3 4 5]\n",
      " [0 1 2]]\n"
     ]
    }
   ],
   "source": [
    "a = np.arange(9).reshape(3, 3)\n",
    "print(a)\n",
    "\n",
    "# 其实可以利用索引办到\n",
    "b = a[[2, 1, 0], :]\n",
    "print(b)\n",
    "\n",
    "# 也可以使用这种方式\n",
    "c = a[::-1]\n",
    "print(c)"
   ]
  },
  {
   "cell_type": "markdown",
   "metadata": {},
   "source": [
    "#### **20. 如何创建包含5到10之间随机浮动的二维数组？**\n",
    "\n",
    "- 难度等级：L2\n",
    "- 问题：创建一个形状为5x3的二维数组，以包含5到10之间的随机十进制数"
   ]
  },
  {
   "cell_type": "code",
   "execution_count": 91,
   "metadata": {},
   "outputs": [
    {
     "name": "stdout",
     "output_type": "stream",
     "text": [
      "[[0 1 2]\n",
      " [3 4 5]\n",
      " [6 7 8]]\n",
      "[[8.27426319 5.42518513 5.66321944]\n",
      " [7.79029098 6.17000599 7.46627917]\n",
      " [6.48373141 5.1322764  6.67280872]\n",
      " [6.55271869 7.72579994 6.79281088]\n",
      " [5.34248555 8.55034851 7.08332065]]\n",
      "[[6.72647879 7.16454924 6.38363742]\n",
      " [6.53839146 9.03222539 8.58890893]\n",
      " [8.49328414 7.821488   8.54489683]\n",
      " [6.81939388 7.7728169  7.43578192]\n",
      " [5.89492953 5.52801393 8.45948305]]\n"
     ]
    }
   ],
   "source": [
    "a1 = np.arange(9).reshape(3, 3)\n",
    "print(a1)\n",
    "\n",
    "# 这种方式另外叠加了高斯分布\n",
    "r1 = np.random.randint(low=5, high=10, size=(5, 3)) + np.random.random((5, 3))\n",
    "print(r1)\n",
    "\n",
    "# 这种方式应该是均匀分布\n",
    "r2 = np.random.uniform(5, 10, size=(5, 3))\n",
    "print(r2)"
   ]
  },
  {
   "cell_type": "markdown",
   "metadata": {},
   "source": [
    "#### **20. 如何创建包含5到10之间随机浮动的二维数组？**\n",
    "\n",
    "- 难度等级：L2\n",
    "- 问题：创建一个形状为5x3的二维数组，以包含5到10之间的随机十进制数"
   ]
  },
  {
   "cell_type": "code",
   "execution_count": null,
   "metadata": {},
   "outputs": [],
   "source": []
  },
  {
   "cell_type": "markdown",
   "metadata": {},
   "source": [
    "#### **20. 如何创建包含5到10之间随机浮动的二维数组？**\n",
    "\n",
    "- 难度等级：L2\n",
    "- 问题：创建一个形状为5x3的二维数组，以包含5到10之间的随机十进制数"
   ]
  },
  {
   "cell_type": "code",
   "execution_count": null,
   "metadata": {},
   "outputs": [],
   "source": []
  },
  {
   "cell_type": "markdown",
   "metadata": {},
   "source": [
    "#### **20. 如何创建包含5到10之间随机浮动的二维数组？**\n",
    "\n",
    "- 难度等级：L2\n",
    "- 问题：创建一个形状为5x3的二维数组，以包含5到10之间的随机十进制数"
   ]
  },
  {
   "cell_type": "code",
   "execution_count": null,
   "metadata": {},
   "outputs": [],
   "source": []
  },
  {
   "cell_type": "markdown",
   "metadata": {},
   "source": [
    "#### **20. 如何创建包含5到10之间随机浮动的二维数组？**\n",
    "\n",
    "- 难度等级：L2\n",
    "- 问题：创建一个形状为5x3的二维数组，以包含5到10之间的随机十进制数"
   ]
  },
  {
   "cell_type": "code",
   "execution_count": null,
   "metadata": {},
   "outputs": [],
   "source": []
  },
  {
   "cell_type": "markdown",
   "metadata": {},
   "source": [
    "#### **20. 如何创建包含5到10之间随机浮动的二维数组？**\n",
    "\n",
    "- 难度等级：L2\n",
    "- 问题：创建一个形状为5x3的二维数组，以包含5到10之间的随机十进制数"
   ]
  },
  {
   "cell_type": "code",
   "execution_count": null,
   "metadata": {},
   "outputs": [],
   "source": []
  },
  {
   "cell_type": "markdown",
   "metadata": {},
   "source": [
    "#### **20. 如何创建包含5到10之间随机浮动的二维数组？**\n",
    "\n",
    "- 难度等级：L2\n",
    "- 问题：创建一个形状为5x3的二维数组，以包含5到10之间的随机十进制数"
   ]
  },
  {
   "cell_type": "code",
   "execution_count": null,
   "metadata": {},
   "outputs": [],
   "source": []
  },
  {
   "cell_type": "markdown",
   "metadata": {},
   "source": [
    "#### **20. 如何创建包含5到10之间随机浮动的二维数组？**\n",
    "\n",
    "- 难度等级：L2\n",
    "- 问题：创建一个形状为5x3的二维数组，以包含5到10之间的随机十进制数"
   ]
  },
  {
   "cell_type": "code",
   "execution_count": null,
   "metadata": {},
   "outputs": [],
   "source": []
  },
  {
   "cell_type": "markdown",
   "metadata": {},
   "source": [
    "#### **20. 如何创建包含5到10之间随机浮动的二维数组？**\n",
    "\n",
    "- 难度等级：L2\n",
    "- 问题：创建一个形状为5x3的二维数组，以包含5到10之间的随机十进制数"
   ]
  },
  {
   "cell_type": "code",
   "execution_count": null,
   "metadata": {},
   "outputs": [],
   "source": []
  },
  {
   "cell_type": "markdown",
   "metadata": {},
   "source": [
    "#### **20. 如何创建包含5到10之间随机浮动的二维数组？**\n",
    "\n",
    "- 难度等级：L2\n",
    "- 问题：创建一个形状为5x3的二维数组，以包含5到10之间的随机十进制数"
   ]
  },
  {
   "cell_type": "code",
   "execution_count": null,
   "metadata": {},
   "outputs": [],
   "source": []
  },
  {
   "cell_type": "markdown",
   "metadata": {},
   "source": [
    "#### **20. 如何创建包含5到10之间随机浮动的二维数组？**\n",
    "\n",
    "- 难度等级：L2\n",
    "- 问题：创建一个形状为5x3的二维数组，以包含5到10之间的随机十进制数"
   ]
  },
  {
   "cell_type": "code",
   "execution_count": null,
   "metadata": {},
   "outputs": [],
   "source": []
  },
  {
   "cell_type": "markdown",
   "metadata": {},
   "source": [
    "#### **20. 如何创建包含5到10之间随机浮动的二维数组？**\n",
    "\n",
    "- 难度等级：L2\n",
    "- 问题：创建一个形状为5x3的二维数组，以包含5到10之间的随机十进制数"
   ]
  },
  {
   "cell_type": "code",
   "execution_count": null,
   "metadata": {},
   "outputs": [],
   "source": []
  },
  {
   "cell_type": "markdown",
   "metadata": {},
   "source": [
    "#### **20. 如何创建包含5到10之间随机浮动的二维数组？**\n",
    "\n",
    "- 难度等级：L2\n",
    "- 问题：创建一个形状为5x3的二维数组，以包含5到10之间的随机十进制数"
   ]
  },
  {
   "cell_type": "code",
   "execution_count": null,
   "metadata": {},
   "outputs": [],
   "source": []
  },
  {
   "cell_type": "markdown",
   "metadata": {},
   "source": [
    "#### **20. 如何创建包含5到10之间随机浮动的二维数组？**\n",
    "\n",
    "- 难度等级：L2\n",
    "- 问题：创建一个形状为5x3的二维数组，以包含5到10之间的随机十进制数"
   ]
  },
  {
   "cell_type": "code",
   "execution_count": null,
   "metadata": {},
   "outputs": [],
   "source": []
  },
  {
   "cell_type": "markdown",
   "metadata": {},
   "source": [
    "#### **20. 如何创建包含5到10之间随机浮动的二维数组？**\n",
    "\n",
    "- 难度等级：L2\n",
    "- 问题：创建一个形状为5x3的二维数组，以包含5到10之间的随机十进制数"
   ]
  },
  {
   "cell_type": "code",
   "execution_count": null,
   "metadata": {},
   "outputs": [],
   "source": []
  },
  {
   "cell_type": "markdown",
   "metadata": {},
   "source": [
    "#### **20. 如何创建包含5到10之间随机浮动的二维数组？**\n",
    "\n",
    "- 难度等级：L2\n",
    "- 问题：创建一个形状为5x3的二维数组，以包含5到10之间的随机十进制数"
   ]
  },
  {
   "cell_type": "code",
   "execution_count": null,
   "metadata": {},
   "outputs": [],
   "source": []
  },
  {
   "cell_type": "markdown",
   "metadata": {},
   "source": [
    "#### **20. 如何创建包含5到10之间随机浮动的二维数组？**\n",
    "\n",
    "- 难度等级：L2\n",
    "- 问题：创建一个形状为5x3的二维数组，以包含5到10之间的随机十进制数"
   ]
  },
  {
   "cell_type": "code",
   "execution_count": null,
   "metadata": {},
   "outputs": [],
   "source": []
  },
  {
   "cell_type": "markdown",
   "metadata": {},
   "source": [
    "#### **20. 如何创建包含5到10之间随机浮动的二维数组？**\n",
    "\n",
    "- 难度等级：L2\n",
    "- 问题：创建一个形状为5x3的二维数组，以包含5到10之间的随机十进制数"
   ]
  },
  {
   "cell_type": "code",
   "execution_count": null,
   "metadata": {},
   "outputs": [],
   "source": []
  },
  {
   "cell_type": "markdown",
   "metadata": {},
   "source": [
    "#### **20. 如何创建包含5到10之间随机浮动的二维数组？**\n",
    "\n",
    "- 难度等级：L2\n",
    "- 问题：创建一个形状为5x3的二维数组，以包含5到10之间的随机十进制数"
   ]
  },
  {
   "cell_type": "code",
   "execution_count": null,
   "metadata": {},
   "outputs": [],
   "source": []
  },
  {
   "cell_type": "markdown",
   "metadata": {},
   "source": [
    "#### **20. 如何创建包含5到10之间随机浮动的二维数组？**\n",
    "\n",
    "- 难度等级：L2\n",
    "- 问题：创建一个形状为5x3的二维数组，以包含5到10之间的随机十进制数"
   ]
  },
  {
   "cell_type": "code",
   "execution_count": null,
   "metadata": {},
   "outputs": [],
   "source": []
  },
  {
   "cell_type": "markdown",
   "metadata": {},
   "source": [
    "#### **20. 如何创建包含5到10之间随机浮动的二维数组？**\n",
    "\n",
    "- 难度等级：L2\n",
    "- 问题：创建一个形状为5x3的二维数组，以包含5到10之间的随机十进制数"
   ]
  },
  {
   "cell_type": "code",
   "execution_count": null,
   "metadata": {},
   "outputs": [],
   "source": []
  },
  {
   "cell_type": "markdown",
   "metadata": {},
   "source": [
    "#### **20. 如何创建包含5到10之间随机浮动的二维数组？**\n",
    "\n",
    "- 难度等级：L2\n",
    "- 问题：创建一个形状为5x3的二维数组，以包含5到10之间的随机十进制数"
   ]
  },
  {
   "cell_type": "code",
   "execution_count": null,
   "metadata": {},
   "outputs": [],
   "source": []
  },
  {
   "cell_type": "markdown",
   "metadata": {},
   "source": [
    "#### **20. 如何创建包含5到10之间随机浮动的二维数组？**\n",
    "\n",
    "- 难度等级：L2\n",
    "- 问题：创建一个形状为5x3的二维数组，以包含5到10之间的随机十进制数"
   ]
  },
  {
   "cell_type": "code",
   "execution_count": null,
   "metadata": {},
   "outputs": [],
   "source": []
  },
  {
   "cell_type": "markdown",
   "metadata": {},
   "source": [
    "#### **20. 如何创建包含5到10之间随机浮动的二维数组？**\n",
    "\n",
    "- 难度等级：L2\n",
    "- 问题：创建一个形状为5x3的二维数组，以包含5到10之间的随机十进制数"
   ]
  },
  {
   "cell_type": "code",
   "execution_count": null,
   "metadata": {},
   "outputs": [],
   "source": []
  },
  {
   "cell_type": "markdown",
   "metadata": {},
   "source": [
    "#### **20. 如何创建包含5到10之间随机浮动的二维数组？**\n",
    "\n",
    "- 难度等级：L2\n",
    "- 问题：创建一个形状为5x3的二维数组，以包含5到10之间的随机十进制数"
   ]
  },
  {
   "cell_type": "code",
   "execution_count": null,
   "metadata": {},
   "outputs": [],
   "source": []
  },
  {
   "cell_type": "markdown",
   "metadata": {},
   "source": [
    "#### **20. 如何创建包含5到10之间随机浮动的二维数组？**\n",
    "\n",
    "- 难度等级：L2\n",
    "- 问题：创建一个形状为5x3的二维数组，以包含5到10之间的随机十进制数"
   ]
  },
  {
   "cell_type": "code",
   "execution_count": null,
   "metadata": {},
   "outputs": [],
   "source": []
  },
  {
   "cell_type": "markdown",
   "metadata": {},
   "source": [
    "#### **20. 如何创建包含5到10之间随机浮动的二维数组？**\n",
    "\n",
    "- 难度等级：L2\n",
    "- 问题：创建一个形状为5x3的二维数组，以包含5到10之间的随机十进制数"
   ]
  },
  {
   "cell_type": "code",
   "execution_count": null,
   "metadata": {},
   "outputs": [],
   "source": []
  },
  {
   "cell_type": "markdown",
   "metadata": {},
   "source": [
    "#### **20. 如何创建包含5到10之间随机浮动的二维数组？**\n",
    "\n",
    "- 难度等级：L2\n",
    "- 问题：创建一个形状为5x3的二维数组，以包含5到10之间的随机十进制数"
   ]
  },
  {
   "cell_type": "code",
   "execution_count": null,
   "metadata": {},
   "outputs": [],
   "source": []
  },
  {
   "cell_type": "markdown",
   "metadata": {},
   "source": [
    "#### **20. 如何创建包含5到10之间随机浮动的二维数组？**\n",
    "\n",
    "- 难度等级：L2\n",
    "- 问题：创建一个形状为5x3的二维数组，以包含5到10之间的随机十进制数"
   ]
  },
  {
   "cell_type": "code",
   "execution_count": null,
   "metadata": {},
   "outputs": [],
   "source": []
  },
  {
   "cell_type": "markdown",
   "metadata": {},
   "source": [
    "#### **20. 如何创建包含5到10之间随机浮动的二维数组？**\n",
    "\n",
    "- 难度等级：L2\n",
    "- 问题：创建一个形状为5x3的二维数组，以包含5到10之间的随机十进制数"
   ]
  },
  {
   "cell_type": "code",
   "execution_count": null,
   "metadata": {},
   "outputs": [],
   "source": []
  },
  {
   "cell_type": "markdown",
   "metadata": {},
   "source": [
    "#### **20. 如何创建包含5到10之间随机浮动的二维数组？**\n",
    "\n",
    "- 难度等级：L2\n",
    "- 问题：创建一个形状为5x3的二维数组，以包含5到10之间的随机十进制数"
   ]
  },
  {
   "cell_type": "code",
   "execution_count": null,
   "metadata": {},
   "outputs": [],
   "source": []
  },
  {
   "cell_type": "markdown",
   "metadata": {},
   "source": [
    "#### **20. 如何创建包含5到10之间随机浮动的二维数组？**\n",
    "\n",
    "- 难度等级：L2\n",
    "- 问题：创建一个形状为5x3的二维数组，以包含5到10之间的随机十进制数"
   ]
  },
  {
   "cell_type": "code",
   "execution_count": null,
   "metadata": {},
   "outputs": [],
   "source": []
  },
  {
   "cell_type": "markdown",
   "metadata": {},
   "source": [
    "#### **20. 如何创建包含5到10之间随机浮动的二维数组？**\n",
    "\n",
    "- 难度等级：L2\n",
    "- 问题：创建一个形状为5x3的二维数组，以包含5到10之间的随机十进制数"
   ]
  },
  {
   "cell_type": "code",
   "execution_count": null,
   "metadata": {},
   "outputs": [],
   "source": []
  },
  {
   "cell_type": "markdown",
   "metadata": {},
   "source": [
    "#### **20. 如何创建包含5到10之间随机浮动的二维数组？**\n",
    "\n",
    "- 难度等级：L2\n",
    "- 问题：创建一个形状为5x3的二维数组，以包含5到10之间的随机十进制数"
   ]
  },
  {
   "cell_type": "code",
   "execution_count": null,
   "metadata": {},
   "outputs": [],
   "source": []
  },
  {
   "cell_type": "markdown",
   "metadata": {},
   "source": [
    "#### **20. 如何创建包含5到10之间随机浮动的二维数组？**\n",
    "\n",
    "- 难度等级：L2\n",
    "- 问题：创建一个形状为5x3的二维数组，以包含5到10之间的随机十进制数"
   ]
  },
  {
   "cell_type": "code",
   "execution_count": null,
   "metadata": {},
   "outputs": [],
   "source": []
  },
  {
   "cell_type": "markdown",
   "metadata": {},
   "source": [
    "#### **20. 如何创建包含5到10之间随机浮动的二维数组？**\n",
    "\n",
    "- 难度等级：L2\n",
    "- 问题：创建一个形状为5x3的二维数组，以包含5到10之间的随机十进制数"
   ]
  },
  {
   "cell_type": "code",
   "execution_count": null,
   "metadata": {},
   "outputs": [],
   "source": []
  },
  {
   "cell_type": "markdown",
   "metadata": {},
   "source": [
    "#### **20. 如何创建包含5到10之间随机浮动的二维数组？**\n",
    "\n",
    "- 难度等级：L2\n",
    "- 问题：创建一个形状为5x3的二维数组，以包含5到10之间的随机十进制数"
   ]
  },
  {
   "cell_type": "code",
   "execution_count": null,
   "metadata": {},
   "outputs": [],
   "source": []
  },
  {
   "cell_type": "markdown",
   "metadata": {},
   "source": [
    "#### **20. 如何创建包含5到10之间随机浮动的二维数组？**\n",
    "\n",
    "- 难度等级：L2\n",
    "- 问题：创建一个形状为5x3的二维数组，以包含5到10之间的随机十进制数"
   ]
  },
  {
   "cell_type": "code",
   "execution_count": null,
   "metadata": {},
   "outputs": [],
   "source": []
  },
  {
   "cell_type": "markdown",
   "metadata": {},
   "source": [
    "#### **20. 如何创建包含5到10之间随机浮动的二维数组？**\n",
    "\n",
    "- 难度等级：L2\n",
    "- 问题：创建一个形状为5x3的二维数组，以包含5到10之间的随机十进制数"
   ]
  },
  {
   "cell_type": "code",
   "execution_count": null,
   "metadata": {},
   "outputs": [],
   "source": []
  },
  {
   "cell_type": "markdown",
   "metadata": {},
   "source": [
    "#### **20. 如何创建包含5到10之间随机浮动的二维数组？**\n",
    "\n",
    "- 难度等级：L2\n",
    "- 问题：创建一个形状为5x3的二维数组，以包含5到10之间的随机十进制数"
   ]
  },
  {
   "cell_type": "code",
   "execution_count": null,
   "metadata": {},
   "outputs": [],
   "source": []
  },
  {
   "cell_type": "markdown",
   "metadata": {},
   "source": [
    "#### **20. 如何创建包含5到10之间随机浮动的二维数组？**\n",
    "\n",
    "- 难度等级：L2\n",
    "- 问题：创建一个形状为5x3的二维数组，以包含5到10之间的随机十进制数"
   ]
  },
  {
   "cell_type": "code",
   "execution_count": null,
   "metadata": {},
   "outputs": [],
   "source": []
  },
  {
   "cell_type": "markdown",
   "metadata": {},
   "source": [
    "#### **20. 如何创建包含5到10之间随机浮动的二维数组？**\n",
    "\n",
    "- 难度等级：L2\n",
    "- 问题：创建一个形状为5x3的二维数组，以包含5到10之间的随机十进制数"
   ]
  },
  {
   "cell_type": "code",
   "execution_count": null,
   "metadata": {},
   "outputs": [],
   "source": []
  },
  {
   "cell_type": "markdown",
   "metadata": {},
   "source": [
    "#### **20. 如何创建包含5到10之间随机浮动的二维数组？**\n",
    "\n",
    "- 难度等级：L2\n",
    "- 问题：创建一个形状为5x3的二维数组，以包含5到10之间的随机十进制数"
   ]
  },
  {
   "cell_type": "code",
   "execution_count": null,
   "metadata": {},
   "outputs": [],
   "source": []
  },
  {
   "cell_type": "markdown",
   "metadata": {},
   "source": [
    "#### **20. 如何创建包含5到10之间随机浮动的二维数组？**\n",
    "\n",
    "- 难度等级：L2\n",
    "- 问题：创建一个形状为5x3的二维数组，以包含5到10之间的随机十进制数"
   ]
  },
  {
   "cell_type": "code",
   "execution_count": null,
   "metadata": {},
   "outputs": [],
   "source": []
  },
  {
   "cell_type": "markdown",
   "metadata": {},
   "source": [
    "#### **20. 如何创建包含5到10之间随机浮动的二维数组？**\n",
    "\n",
    "- 难度等级：L2\n",
    "- 问题：创建一个形状为5x3的二维数组，以包含5到10之间的随机十进制数"
   ]
  },
  {
   "cell_type": "code",
   "execution_count": null,
   "metadata": {},
   "outputs": [],
   "source": []
  },
  {
   "cell_type": "markdown",
   "metadata": {},
   "source": [
    "#### **20. 如何创建包含5到10之间随机浮动的二维数组？**\n",
    "\n",
    "- 难度等级：L2\n",
    "- 问题：创建一个形状为5x3的二维数组，以包含5到10之间的随机十进制数"
   ]
  },
  {
   "cell_type": "code",
   "execution_count": null,
   "metadata": {},
   "outputs": [],
   "source": []
  },
  {
   "cell_type": "markdown",
   "metadata": {},
   "source": [
    "#### **20. 如何创建包含5到10之间随机浮动的二维数组？**\n",
    "\n",
    "- 难度等级：L2\n",
    "- 问题：创建一个形状为5x3的二维数组，以包含5到10之间的随机十进制数"
   ]
  },
  {
   "cell_type": "code",
   "execution_count": null,
   "metadata": {},
   "outputs": [],
   "source": []
  },
  {
   "cell_type": "markdown",
   "metadata": {},
   "source": [
    "#### **20. 如何创建包含5到10之间随机浮动的二维数组？**\n",
    "\n",
    "- 难度等级：L2\n",
    "- 问题：创建一个形状为5x3的二维数组，以包含5到10之间的随机十进制数"
   ]
  },
  {
   "cell_type": "code",
   "execution_count": null,
   "metadata": {},
   "outputs": [],
   "source": []
  },
  {
   "cell_type": "markdown",
   "metadata": {},
   "source": [
    "#### **20. 如何创建包含5到10之间随机浮动的二维数组？**\n",
    "\n",
    "- 难度等级：L2\n",
    "- 问题：创建一个形状为5x3的二维数组，以包含5到10之间的随机十进制数"
   ]
  },
  {
   "cell_type": "code",
   "execution_count": null,
   "metadata": {},
   "outputs": [],
   "source": []
  },
  {
   "cell_type": "markdown",
   "metadata": {},
   "source": [
    "#### **20. 如何创建包含5到10之间随机浮动的二维数组？**\n",
    "\n",
    "- 难度等级：L2\n",
    "- 问题：创建一个形状为5x3的二维数组，以包含5到10之间的随机十进制数"
   ]
  },
  {
   "cell_type": "code",
   "execution_count": null,
   "metadata": {},
   "outputs": [],
   "source": []
  },
  {
   "cell_type": "markdown",
   "metadata": {},
   "source": [
    "#### **20. 如何创建包含5到10之间随机浮动的二维数组？**\n",
    "\n",
    "- 难度等级：L2\n",
    "- 问题：创建一个形状为5x3的二维数组，以包含5到10之间的随机十进制数"
   ]
  },
  {
   "cell_type": "code",
   "execution_count": null,
   "metadata": {},
   "outputs": [],
   "source": []
  },
  {
   "cell_type": "markdown",
   "metadata": {},
   "source": [
    "#### **20. 如何创建包含5到10之间随机浮动的二维数组？**\n",
    "\n",
    "- 难度等级：L2\n",
    "- 问题：创建一个形状为5x3的二维数组，以包含5到10之间的随机十进制数"
   ]
  },
  {
   "cell_type": "code",
   "execution_count": null,
   "metadata": {},
   "outputs": [],
   "source": []
  },
  {
   "cell_type": "markdown",
   "metadata": {},
   "source": [
    "#### **20. 如何创建包含5到10之间随机浮动的二维数组？**\n",
    "\n",
    "- 难度等级：L2\n",
    "- 问题：创建一个形状为5x3的二维数组，以包含5到10之间的随机十进制数"
   ]
  },
  {
   "cell_type": "code",
   "execution_count": null,
   "metadata": {},
   "outputs": [],
   "source": []
  },
  {
   "cell_type": "markdown",
   "metadata": {},
   "source": [
    "#### **20. 如何创建包含5到10之间随机浮动的二维数组？**\n",
    "\n",
    "- 难度等级：L2\n",
    "- 问题：创建一个形状为5x3的二维数组，以包含5到10之间的随机十进制数"
   ]
  },
  {
   "cell_type": "code",
   "execution_count": null,
   "metadata": {},
   "outputs": [],
   "source": []
  },
  {
   "cell_type": "markdown",
   "metadata": {},
   "source": [
    "#### **20. 如何创建包含5到10之间随机浮动的二维数组？**\n",
    "\n",
    "- 难度等级：L2\n",
    "- 问题：创建一个形状为5x3的二维数组，以包含5到10之间的随机十进制数"
   ]
  },
  {
   "cell_type": "code",
   "execution_count": null,
   "metadata": {},
   "outputs": [],
   "source": []
  },
  {
   "cell_type": "markdown",
   "metadata": {},
   "source": [
    "#### **2. 如何创建一维数组？**\n",
    "\n",
    "- 难度等级：L1\n",
    "- 问题：创建从0到9的一维数字数组"
   ]
  }
 ],
 "metadata": {
  "kernelspec": {
   "display_name": "Python 3",
   "language": "python",
   "name": "python3"
  },
  "language_info": {
   "codemirror_mode": {
    "name": "ipython",
    "version": 3
   },
   "file_extension": ".py",
   "mimetype": "text/x-python",
   "name": "python",
   "nbconvert_exporter": "python",
   "pygments_lexer": "ipython3",
   "version": "3.7.1"
  }
 },
 "nbformat": 4,
 "nbformat_minor": 2
}
