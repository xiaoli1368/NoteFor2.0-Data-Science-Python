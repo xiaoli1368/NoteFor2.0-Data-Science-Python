{
 "cells": [
  {
   "cell_type": "markdown",
   "metadata": {},
   "source": [
    "# SciPy Studying"
   ]
  },
  {
   "cell_type": "markdown",
   "metadata": {},
   "source": [
    "## 说明\n",
    "\n",
    "该文档是对[Scipy官网](https://scipy.org/)的学习笔记。主要由以下两部分构成：\n",
    "\n",
    "- [Getting Started](https://scipy.org/getting-started.html)\n",
    "- [SciPy Tutorial](https://docs.scipy.org/doc/scipy/reference/tutorial/index.html)"
   ]
  },
  {
   "cell_type": "markdown",
   "metadata": {},
   "source": [
    "## **Getting Started**"
   ]
  },
  {
   "cell_type": "markdown",
   "metadata": {},
   "source": [
    "这篇文档主要是对Scipy的一些简单介绍。\n",
    "\n",
    "SciPy以及同系列的库可以用来实现各种各样的任务：\n",
    "\n",
    "同时在这里也给出了一些参考资料：\n",
    "- [Python Scientific Lecture Notes](http://scipy-lectures.org/index.html)\n",
    "- [NumPy User Guide](http://docs.scipy.org/doc/numpy-dev/user/)\n",
    "- [SciPy Tutorial](http://docs.scipy.org/doc/scipy/reference/tutorial/index.html)\n",
    "- [Matplotlib beginner’s guide](http://matplotlib.org/users/beginner.html)\n",
    "- [Pandas tutorials](http://pandas.pydata.org/pandas-docs/stable/tutorials.html)\n",
    "- [Sympy tutorial](http://docs.sympy.org/latest/tutorial/)"
   ]
  },
  {
   "cell_type": "code",
   "execution_count": 25,
   "metadata": {},
   "outputs": [
    {
     "data": {
      "image/png": "[encoded data removed]",
      "text/plain": [
       "<Figure size 432x288 with 1 Axes>"
      ]
     },
     "metadata": {
      "needs_background": "light"
     },
     "output_type": "display_data"
    }
   ],
   "source": [
    "# 以下是一个例子：画出贝塞尔函数的最大值\n",
    "\n",
    "from scipy import special, optimize\n",
    "import matplotlib.pyplot as plt\n",
    "import numpy as np\n",
    "\n",
    "f = lambda x: -special.jv(3, x)\n",
    "sol = optimize.minimize(f, 1.0)\n",
    "x = np.linspace(0, 10, 5000)\n",
    "\n",
    "plt.plot(x, special.jv(3, x), sol.x, -sol.fun, 'o')\n",
    "plt.savefig('plot.png', dpi=96)\n",
    "# plt.savefig('plot.svg', dpi=96)\n",
    "# plt.savefig('plot.pdf', dpi=96)\n",
    "plt.show()"
   ]
  },
  {
   "cell_type": "code",
   "execution_count": 26,
   "metadata": {},
   "outputs": [
    {
     "data": {
      "image/png": "[encoded data removed]",
      "text/plain": [
       "<Figure size 432x288 with 1 Axes>"
      ]
     },
     "metadata": {
      "needs_background": "light"
     },
     "output_type": "display_data"
    }
   ],
   "source": [
    "# 写成函数与脚本的形式\n",
    "from scipy import special, optimize\n",
    "import matplotlib.pyplot as plt\n",
    "import numpy as np\n",
    "\n",
    "def main():\n",
    "    '''这是主函数'''\n",
    "    f = lambda x: -special.jv(3, x)\n",
    "    sol = optimize.minimize(f, 1.0)\n",
    "    x = np.linspace(0, 10, 5000)\n",
    "\n",
    "    plt.plot(x, special.jv(3, x), sol.x, -sol.fun, 'o')\n",
    "    plt.savefig('plot.png', dpi=96)\n",
    "    # plt.savefig('plot.svg', dpi=96)\n",
    "    # plt.savefig('plot.pdf', dpi=96)\n",
    "    plt.show()\n",
    "\n",
    "    \n",
    "if __name__ == '__main__':\n",
    "    main()"
   ]
  },
  {
   "cell_type": "markdown",
   "metadata": {},
   "source": [
    "## **SciPy Tutorial**"
   ]
  },
  {
   "cell_type": "markdown",
   "metadata": {},
   "source": [
    "这篇文档更加详细的说明了Scipy库的基本组成以及各个库的用法。"
   ]
  },
  {
   "cell_type": "markdown",
   "metadata": {},
   "source": [
    "### **1. 介绍**"
   ]
  },
  {
   "cell_type": "markdown",
   "metadata": {},
   "source": [
    "SciPy是基于Python的NumPy扩展构建的数学算法和便利函数的集合。\n",
    "\n",
    "通过SciPy，交互式Python会话成为可与MATLAB，IDL，Octave，R-Lab和SciLab等系统相媲美的数据处理和系统原型设计环境。"
   ]
  },
  {
   "cell_type": "code",
   "execution_count": 28,
   "metadata": {},
   "outputs": [],
   "source": [
    "# 默认的导入方式\n",
    "import numpy as np\n",
    "import matplotlib as mpl\n",
    "import matplotlib.pyplot as plt"
   ]
  },
  {
   "cell_type": "markdown",
   "metadata": {},
   "source": [
    "**SciPy被组织成涵盖不同科学计算领域的子包。 这些总结在下表中：**\n",
    "\n",
    "|子包名称    |说明                |\n",
    "|--------   |---                 |\n",
    "|cluster    |聚类算法             |\n",
    "|constants  |物理和数学常数       |\n",
    "|fftpack    |fft相关             |\n",
    "|integrate  |积分和常微分方程求解器|\n",
    "|interpolate|插值和平滑样条       |\n",
    "|io         |输入输出             |\n",
    "|linalg     |线性代数             |\n",
    "|ndimage    |N维图像处理          |\n",
    "|odr        |正交距离回归         |\n",
    "|optimize   |优化和求根相关       |\n",
    "|signal     |信号处理             |\n",
    "|sparse     |稀疏矩阵和相关例程    |\n",
    "|spatial    |空间数据结构和算法    |\n",
    "|special    |特殊函数             |\n",
    "|stats      |统计分布和功能        |\n",
    "\n",
    "**查看函数的帮助文档由两种方式：**\n",
    "\n",
    "- 一是使用Python的pydoc模块中的help函数。\n",
    "- 二是使用Numpy的info函数，即np.info()\n",
    "\n",
    "**另外一个有用的命令是dir，可以使用它来查看当前包或模块中的空间：**"
   ]
  },
  {
   "cell_type": "code",
   "execution_count": 32,
   "metadata": {},
   "outputs": [],
   "source": [
    "# import numpy as np\n",
    "# dir(np)"
   ]
  },
  {
   "cell_type": "markdown",
   "metadata": {},
   "source": [
    "### **2. 基础函数**"
   ]
  },
  {
   "cell_type": "markdown",
   "metadata": {},
   "source": [
    "SciPy的顶层也包含了一些来自Numpy的函数。但是你最好还是直接从Numpy模块中调用。"
   ]
  },
  {
   "cell_type": "markdown",
   "metadata": {},
   "source": [
    "**有一些类实例特别使用切片功能来为数组构造提供有效的方法**。 本部分将讨论numpy.mgrid，numpy.ogrid，numpy.r_和numpy.c_的操作，以便快速构建数组。"
   ]
  },
  {
   "cell_type": "code",
   "execution_count": 34,
   "metadata": {},
   "outputs": [
    {
     "data": {
      "text/plain": [
       "array([ 3.        ,  0.        ,  0.        ,  0.        ,  0.        ,\n",
       "        0.        , -1.        , -0.77777778, -0.55555556, -0.33333333,\n",
       "       -0.11111111,  0.11111111,  0.33333333,  0.55555556,  0.77777778,\n",
       "        1.        ])"
      ]
     },
     "execution_count": 34,
     "metadata": {},
     "output_type": "execute_result"
    }
   ],
   "source": [
    "a = np.concatenate(([3], [0]*5, np.arange(-1, 1.002, 2/9.0)))\n",
    "a"
   ]
  },
  {
   "cell_type": "code",
   "execution_count": 35,
   "metadata": {},
   "outputs": [
    {
     "data": {
      "text/plain": [
       "array([ 3.        ,  0.        ,  0.        ,  0.        ,  0.        ,\n",
       "        0.        , -1.        , -0.77777778, -0.55555556, -0.33333333,\n",
       "       -0.11111111,  0.11111111,  0.33333333,  0.55555556,  0.77777778,\n",
       "        1.        ])"
      ]
     },
     "execution_count": 35,
     "metadata": {},
     "output_type": "execute_result"
    }
   ],
   "source": [
    "a = np.r_[3,[0]*5,-1:1:10j]\n",
    "a"
   ]
  },
  {
   "cell_type": "code",
   "execution_count": 36,
   "metadata": {},
   "outputs": [
    {
     "data": {
      "text/plain": [
       "array([[[0, 0, 0, 0, 0],\n",
       "        [1, 1, 1, 1, 1],\n",
       "        [2, 2, 2, 2, 2],\n",
       "        [3, 3, 3, 3, 3],\n",
       "        [4, 4, 4, 4, 4]],\n",
       "\n",
       "       [[0, 1, 2, 3, 4],\n",
       "        [0, 1, 2, 3, 4],\n",
       "        [0, 1, 2, 3, 4],\n",
       "        [0, 1, 2, 3, 4],\n",
       "        [0, 1, 2, 3, 4]]])"
      ]
     },
     "execution_count": 36,
     "metadata": {},
     "output_type": "execute_result"
    }
   ],
   "source": [
    "np.mgrid[0:5,0:5]"
   ]
  },
  {
   "cell_type": "code",
   "execution_count": 37,
   "metadata": {},
   "outputs": [
    {
     "data": {
      "text/plain": [
       "array([[[0.        , 0.        , 0.        , 0.        ],\n",
       "        [1.66666667, 1.66666667, 1.66666667, 1.66666667],\n",
       "        [3.33333333, 3.33333333, 3.33333333, 3.33333333],\n",
       "        [5.        , 5.        , 5.        , 5.        ]],\n",
       "\n",
       "       [[0.        , 1.66666667, 3.33333333, 5.        ],\n",
       "        [0.        , 1.66666667, 3.33333333, 5.        ],\n",
       "        [0.        , 1.66666667, 3.33333333, 5.        ],\n",
       "        [0.        , 1.66666667, 3.33333333, 5.        ]]])"
      ]
     },
     "execution_count": 37,
     "metadata": {},
     "output_type": "execute_result"
    }
   ],
   "source": [
    "np.mgrid[0:5:4j,0:5:4j]"
   ]
  },
  {
   "cell_type": "markdown",
   "metadata": {},
   "source": [
    "**在SciPy中有两种（可互换的）方法来处理1-d多项式**。 第一种是使用NumPy中的poly1d类。 该类接受系数或多项式根来初始化多项式。 然后可以在代数表达式中操纵多项式对象，对其进行积分，区分和评估。 它甚至像多项式一样打印："
   ]
  },
  {
   "cell_type": "code",
   "execution_count": 40,
   "metadata": {},
   "outputs": [
    {
     "name": "stdout",
     "output_type": "stream",
     "text": [
      "   2\n",
      "3 x + 4 x + 5\n"
     ]
    }
   ],
   "source": [
    "from numpy import poly1d\n",
    "p = poly1d([3,4,5])\n",
    "print(p)\n",
    "# 注意那个悬空的2指的是 x的平方，这个表示可太秀了"
   ]
  },
  {
   "cell_type": "code",
   "execution_count": 41,
   "metadata": {},
   "outputs": [
    {
     "name": "stdout",
     "output_type": "stream",
     "text": [
      "   4      3      2\n",
      "9 x + 24 x + 46 x + 40 x + 25\n"
     ]
    }
   ],
   "source": [
    "print(p*p)"
   ]
  },
  {
   "cell_type": "code",
   "execution_count": 42,
   "metadata": {},
   "outputs": [
    {
     "name": "stdout",
     "output_type": "stream",
     "text": [
      "   3     2\n",
      "1 x + 2 x + 5 x + 6\n"
     ]
    }
   ],
   "source": [
    "print(p.integ(k=6))"
   ]
  },
  {
   "cell_type": "code",
   "execution_count": 43,
   "metadata": {},
   "outputs": [
    {
     "name": "stdout",
     "output_type": "stream",
     "text": [
      " \n",
      "6 x + 4\n"
     ]
    }
   ],
   "source": [
    "print(p.deriv())"
   ]
  },
  {
   "cell_type": "code",
   "execution_count": 44,
   "metadata": {},
   "outputs": [
    {
     "data": {
      "text/plain": [
       "array([ 69, 100])"
      ]
     },
     "execution_count": 44,
     "metadata": {},
     "output_type": "execute_result"
    }
   ],
   "source": [
    "p([4, 5])"
   ]
  },
  {
   "cell_type": "markdown",
   "metadata": {},
   "source": [
    "**处理多项式的另一种方法是作为系数阵列**，其中阵列的第一个元素给出最高功率的系数。 存在显式函数来加，减，乘，除，积分，区分和评估表示为系数序列的多项式。"
   ]
  },
  {
   "cell_type": "markdown",
   "metadata": {},
   "source": [
    "**NumPy提供的一个功能是类向量化，用于转换普通的Python函数**，该函数接受标量并将标量返回到“向量化函数”，其具有与其他NumPy函数相同的广播规则（即通用函数或ufuncs）。 例如，假设您有一个名为addsubtract的Python函数定义为："
   ]
  },
  {
   "cell_type": "code",
   "execution_count": 46,
   "metadata": {},
   "outputs": [],
   "source": [
    "def addsubtract(a,b):\n",
    "    if a > b:\n",
    "        return a - b\n",
    "    else:\n",
    "        return a + b"
   ]
  },
  {
   "cell_type": "code",
   "execution_count": 47,
   "metadata": {},
   "outputs": [],
   "source": [
    "vec_addsubtract = np.vectorize(addsubtract)"
   ]
  },
  {
   "cell_type": "code",
   "execution_count": 48,
   "metadata": {},
   "outputs": [
    {
     "data": {
      "text/plain": [
       "array([1, 6, 1, 2])"
      ]
     },
     "execution_count": 48,
     "metadata": {},
     "output_type": "execute_result"
    }
   ],
   "source": [
    "vec_addsubtract([0,3,6,9],[1,3,5,7])"
   ]
  },
  {
   "cell_type": "markdown",
   "metadata": {},
   "source": [
    "这个特定的函数可以用矢量形式编写而不使用矢量化。 但是，使用优化或集成例程的函数很可能只能使用向量化进行矢量化。"
   ]
  },
  {
   "cell_type": "markdown",
   "metadata": {},
   "source": [
    "请注意numpy.iscomplex / numpy.isreal和numpy.iscomplexobj / numpy.isrealobj之间的区别。 前一个命令是基于数组的，返回1和0的字节数组，提供元素测试的结果。 后一个命令是基于对象的，并返回一个标量，描述整个对象的测试结果。"
   ]
  },
  {
   "cell_type": "markdown",
   "metadata": {},
   "source": [
    "**还应该提到其他一些有用的功能：**\n",
    "- 角度处理：angle, unwrap\n",
    "- 初始化：linspace, logspace\n",
    "- 索引：selct"
   ]
  },
  {
   "cell_type": "code",
   "execution_count": 49,
   "metadata": {},
   "outputs": [
    {
     "data": {
      "text/plain": [
       "array([ 0,  1,  2,  0,  0,  0, 36, 49, 64, 81])"
      ]
     },
     "execution_count": 49,
     "metadata": {},
     "output_type": "execute_result"
    }
   ],
   "source": [
    "x = np.arange(10)\n",
    "condlist = [x<3, x>5]\n",
    "choicelist = [x, x**2]\n",
    "np.select(condlist, choicelist)"
   ]
  },
  {
   "cell_type": "markdown",
   "metadata": {},
   "source": [
    "**其它的一些有用的函数可以从 scipy.special 模块中找到。**"
   ]
  },
  {
   "cell_type": "markdown",
   "metadata": {},
   "source": [
    "### **3. 子模块介绍**"
   ]
  },
  {
   "cell_type": "markdown",
   "metadata": {},
   "source": [
    "以下是对各个子模块的介绍，但是考虑到实际中远远不会覆盖到全部的模块，因此只需要重点学习常用的模块即可。\n",
    "\n",
    "因此我选择对以下三个模块学习，目前还没有发现一些好的翻译，因此有时间可以试着自己简单翻译一下说明文档。\n",
    "\n",
    "- scipy.fftpack\n",
    "- scipy.signal\n",
    "- scipy.linalg"
   ]
  },
  {
   "cell_type": "code",
   "execution_count": null,
   "metadata": {},
   "outputs": [],
   "source": []
  },
  {
   "cell_type": "code",
   "execution_count": null,
   "metadata": {},
   "outputs": [],
   "source": []
  },
  {
   "cell_type": "code",
   "execution_count": null,
   "metadata": {},
   "outputs": [],
   "source": []
  },
  {
   "cell_type": "code",
   "execution_count": null,
   "metadata": {},
   "outputs": [],
   "source": []
  },
  {
   "cell_type": "code",
   "execution_count": null,
   "metadata": {},
   "outputs": [],
   "source": []
  },
  {
   "cell_type": "code",
   "execution_count": null,
   "metadata": {},
   "outputs": [],
   "source": []
  },
  {
   "cell_type": "code",
   "execution_count": null,
   "metadata": {},
   "outputs": [],
   "source": []
  },
  {
   "cell_type": "code",
   "execution_count": null,
   "metadata": {},
   "outputs": [],
   "source": []
  },
  {
   "cell_type": "code",
   "execution_count": null,
   "metadata": {},
   "outputs": [],
   "source": []
  },
  {
   "cell_type": "code",
   "execution_count": null,
   "metadata": {},
   "outputs": [],
   "source": []
  },
  {
   "cell_type": "code",
   "execution_count": null,
   "metadata": {},
   "outputs": [],
   "source": []
  },
  {
   "cell_type": "code",
   "execution_count": null,
   "metadata": {},
   "outputs": [],
   "source": []
  }
 ],
 "metadata": {
  "kernelspec": {
   "display_name": "Python 3",
   "language": "python",
   "name": "python3"
  },
  "language_info": {
   "codemirror_mode": {
    "name": "ipython",
    "version": 3
   },
   "file_extension": ".py",
   "mimetype": "text/x-python",
   "name": "python",
   "nbconvert_exporter": "python",
   "pygments_lexer": "ipython3",
   "version": "3.6.4"
  }
 },
 "nbformat": 4,
 "nbformat_minor": 4
}
